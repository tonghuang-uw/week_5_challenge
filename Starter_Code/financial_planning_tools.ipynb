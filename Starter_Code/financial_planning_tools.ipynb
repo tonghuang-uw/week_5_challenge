{
 "cells": [
  {
   "cell_type": "markdown",
   "metadata": {},
   "source": [
    "# Financial Planning with APIs and Simulations\n",
    "\n",
    "In this Challenge, you’ll create two financial analysis tools by using a single Jupyter notebook:\n",
    "\n",
    "Part 1: A financial planner for emergencies. The members will be able to use this tool to visualize their current savings. The members can then determine if they have enough reserves for an emergency fund.\n",
    "\n",
    "Part 2: A financial planner for retirement. This tool will forecast the performance of their retirement portfolio in 30 years. To do this, the tool will make an Alpaca API call via the Alpaca SDK to get historical price data for use in Monte Carlo simulations.\n",
    "\n",
    "You’ll use the information from the Monte Carlo simulation to answer questions about the portfolio in your Jupyter notebook.\n",
    "\n"
   ]
  },
  {
   "cell_type": "code",
   "execution_count": 1,
   "metadata": {},
   "outputs": [],
   "source": [
    "# Import the required libraries and dependencies\n",
    "import os\n",
    "import requests\n",
    "import json\n",
    "import pandas as pd\n",
    "from dotenv import load_dotenv\n",
    "import alpaca_trade_api as tradeapi\n",
    "from MCForecastTools import MCSimulation\n",
    "\n",
    "%matplotlib inline"
   ]
  },
  {
   "cell_type": "code",
   "execution_count": 2,
   "metadata": {},
   "outputs": [
    {
     "data": {
      "text/plain": [
       "True"
      ]
     },
     "execution_count": 2,
     "metadata": {},
     "output_type": "execute_result"
    }
   ],
   "source": [
    "# Load the environment variables from the .env file\n",
    "#by calling the load_dotenv function\n",
    "load_dotenv()"
   ]
  },
  {
   "cell_type": "markdown",
   "metadata": {},
   "source": [
    "## Part 1: Create a Financial Planner for Emergencies"
   ]
  },
  {
   "cell_type": "markdown",
   "metadata": {},
   "source": [
    "### Evaluate the Cryptocurrency Wallet by Using the Requests Library\n",
    "\n",
    "In this section, you’ll determine the current value of a member’s cryptocurrency wallet. You’ll collect the current prices for the Bitcoin and Ethereum cryptocurrencies by using the Python Requests library. For the prototype, you’ll assume that the member holds the 1.2 Bitcoins (BTC) and 5.3 Ethereum coins (ETH). To do all this, complete the following steps:\n",
    "\n",
    "1. Create a variable named `monthly_income`, and set its value to `12000`.\n",
    "\n",
    "2. Use the Requests library to get the current price (in US dollars) of Bitcoin (BTC) and Ethereum (ETH) by using the API endpoints that the starter code supplies.\n",
    "\n",
    "3. Navigate the JSON response object to access the current price of each coin, and store each in a variable.\n",
    "\n",
    "    > **Hint** Note the specific identifier for each cryptocurrency in the API JSON response. The Bitcoin identifier is `1`, and the Ethereum identifier is `1027`.\n",
    "\n",
    "4. Calculate the value, in US dollars, of the current amount of each cryptocurrency and of the entire cryptocurrency wallet.\n",
    "\n"
   ]
  },
  {
   "cell_type": "code",
   "execution_count": 3,
   "metadata": {},
   "outputs": [],
   "source": [
    "# The current number of coins for each cryptocurrency asset held in the portfolio.\n",
    "btc_coins = 1.2\n",
    "eth_coins = 5.3"
   ]
  },
  {
   "cell_type": "markdown",
   "metadata": {},
   "source": [
    "#### Step 1: Create a variable named `monthly_income`, and set its value to `12000`."
   ]
  },
  {
   "cell_type": "code",
   "execution_count": 4,
   "metadata": {},
   "outputs": [],
   "source": [
    "# The monthly amount for the member's household income\n",
    "# YOUR CODE HERE\n",
    "monthly_income = 12000"
   ]
  },
  {
   "cell_type": "markdown",
   "metadata": {},
   "source": [
    "#### Review the endpoint URLs for the API calls to Free Crypto API in order to get the current pricing information for both BTC and ETH."
   ]
  },
  {
   "cell_type": "code",
   "execution_count": 5,
   "metadata": {},
   "outputs": [],
   "source": [
    "# The Free Crypto API Call endpoint URLs for the held cryptocurrency assets\n",
    "btc_url = \"https://api.alternative.me/v2/ticker/Bitcoin/?convert=USD\"\n",
    "eth_url = \"https://api.alternative.me/v2/ticker/Ethereum/?convert=USD\""
   ]
  },
  {
   "cell_type": "markdown",
   "metadata": {},
   "source": [
    "#### Step 2. Use the Requests library to get the current price (in US dollars) of Bitcoin (BTC) and Ethereum (ETH) by using the API endpoints that the starter code supplied."
   ]
  },
  {
   "cell_type": "code",
   "execution_count": 6,
   "metadata": {},
   "outputs": [
    {
     "name": "stdout",
     "output_type": "stream",
     "text": [
      "{\n",
      "    \"data\": {\n",
      "        \"1\": {\n",
      "            \"circulating_supply\": 18745762,\n",
      "            \"id\": 1,\n",
      "            \"last_updated\": 1625162967,\n",
      "            \"max_supply\": 21000000,\n",
      "            \"name\": \"Bitcoin\",\n",
      "            \"quotes\": {\n",
      "                \"USD\": {\n",
      "                    \"market_cap\": 630180230795,\n",
      "                    \"percent_change_1h\": 0.790589031646389,\n",
      "                    \"percent_change_24h\": -2.91050624040727,\n",
      "                    \"percent_change_7d\": -0.154939524836352,\n",
      "                    \"percentage_change_1h\": 0.790589031646389,\n",
      "                    \"percentage_change_24h\": -2.91050624040727,\n",
      "                    \"percentage_change_7d\": -0.154939524836352,\n",
      "                    \"price\": 33650.0,\n",
      "                    \"volume_24h\": 29898861978\n",
      "                }\n",
      "            },\n",
      "            \"rank\": 1,\n",
      "            \"symbol\": \"BTC\",\n",
      "            \"total_supply\": 18745762,\n",
      "            \"website_slug\": \"bitcoin\"\n",
      "        }\n",
      "    },\n",
      "    \"metadata\": {\n",
      "        \"error\": null,\n",
      "        \"num_cryptocurrencies\": 1279,\n",
      "        \"timestamp\": 1625162967\n",
      "    }\n",
      "}\n"
     ]
    }
   ],
   "source": [
    "# Using the Python requests library, make an API call to access the current price of BTC\n",
    "btc_response = requests.get(btc_url).json()\n",
    "\n",
    "# Use the json.dumps function to review the response data from the API call\n",
    "# Use the indent and sort_keys parameters to make the response object readable\n",
    "# YOUR CODE HERE\n",
    "print(json.dumps(btc_response, indent = 4, sort_keys = True))"
   ]
  },
  {
   "cell_type": "code",
   "execution_count": 7,
   "metadata": {},
   "outputs": [
    {
     "name": "stdout",
     "output_type": "stream",
     "text": [
      "{\n",
      "    \"data\": {\n",
      "        \"1027\": {\n",
      "            \"circulating_supply\": 116518138,\n",
      "            \"id\": 1027,\n",
      "            \"last_updated\": 1625162915,\n",
      "            \"max_supply\": 0,\n",
      "            \"name\": \"Ethereum\",\n",
      "            \"quotes\": {\n",
      "                \"USD\": {\n",
      "                    \"market_cap\": 246177414662,\n",
      "                    \"percent_change_1h\": 0.638154801069415,\n",
      "                    \"percent_change_24h\": -2.15858597806899,\n",
      "                    \"percent_change_7d\": 7.07220840916071,\n",
      "                    \"percentage_change_1h\": 0.638154801069415,\n",
      "                    \"percentage_change_24h\": -2.15858597806899,\n",
      "                    \"percentage_change_7d\": 7.07220840916071,\n",
      "                    \"price\": 2110.51,\n",
      "                    \"volume_24h\": 28011437298\n",
      "                }\n",
      "            },\n",
      "            \"rank\": 2,\n",
      "            \"symbol\": \"ETH\",\n",
      "            \"total_supply\": 116518138,\n",
      "            \"website_slug\": \"ethereum\"\n",
      "        }\n",
      "    },\n",
      "    \"metadata\": {\n",
      "        \"error\": null,\n",
      "        \"num_cryptocurrencies\": 1279,\n",
      "        \"timestamp\": 1625162915\n",
      "    }\n",
      "}\n"
     ]
    }
   ],
   "source": [
    "# Using the Python requests library, make an API call to access the current price ETH\n",
    "eth_response = requests.get(eth_url).json()\n",
    "\n",
    "# Use the json.dumps function to review the response data from the API call\n",
    "# Use the indent and sort_keys parameters to make the response object readable\n",
    "# YOUR CODE HERE\n",
    "print(json.dumps(eth_response, indent = 4, sort_keys = True))"
   ]
  },
  {
   "cell_type": "markdown",
   "metadata": {},
   "source": [
    "#### Step 3: Navigate the JSON response object to access the current price of each coin, and store each in a variable."
   ]
  },
  {
   "cell_type": "code",
   "execution_count": 10,
   "metadata": {},
   "outputs": [
    {
     "name": "stdout",
     "output_type": "stream",
     "text": [
      "33650.0\n"
     ]
    }
   ],
   "source": [
    "# Navigate the BTC response object to access the current price of BTC\n",
    "btc_price = btc_response['data']['1']['quotes']['USD']['price']\n",
    "\n",
    "# Print the current price of BTC\n",
    "# YOUR CODE HERE\n",
    "print(btc_price)"
   ]
  },
  {
   "cell_type": "code",
   "execution_count": 12,
   "metadata": {},
   "outputs": [
    {
     "name": "stdout",
     "output_type": "stream",
     "text": [
      "2110.51\n"
     ]
    }
   ],
   "source": [
    "# Navigate the BTC response object to access the current price of ETH\n",
    "eth_price = eth_response['data']['1027']['quotes']['USD']['price']\n",
    "\n",
    "# Print the current price of ETH\n",
    "# YOUR CODE HERE\n",
    "print(eth_price)"
   ]
  },
  {
   "cell_type": "markdown",
   "metadata": {},
   "source": [
    "### Step 4: Calculate the value, in US dollars, of the current amount of each cryptocurrency and of the entire cryptocurrency wallet."
   ]
  },
  {
   "cell_type": "code",
   "execution_count": 13,
   "metadata": {},
   "outputs": [
    {
     "name": "stdout",
     "output_type": "stream",
     "text": [
      "40380.0\n"
     ]
    }
   ],
   "source": [
    "# Compute the current value of the BTC holding \n",
    "btc_value = btc_price*btc_coins\n",
    "\n",
    "# Print current value of your holding in BTC\n",
    "# YOUR CODE HERE\n",
    "print(btc_value)"
   ]
  },
  {
   "cell_type": "code",
   "execution_count": 14,
   "metadata": {},
   "outputs": [
    {
     "name": "stdout",
     "output_type": "stream",
     "text": [
      "11185.703000000001\n"
     ]
    }
   ],
   "source": [
    "# Compute the current value of the ETH holding \n",
    "eth_value = eth_price*eth_coins\n",
    "\n",
    "# Print current value of your holding in ETH\n",
    "# YOUR CODE HERE\n",
    "print(eth_value)"
   ]
  },
  {
   "cell_type": "code",
   "execution_count": 15,
   "metadata": {},
   "outputs": [
    {
     "name": "stdout",
     "output_type": "stream",
     "text": [
      "51565.703\n"
     ]
    }
   ],
   "source": [
    "# Compute the total value of the cryptocurrency wallet\n",
    "# Add the value of the BTC holding to the value of the ETH holding\n",
    "total_crypto_wallet = btc_value+eth_value\n",
    "\n",
    "# Print current cryptocurrency wallet balance\n",
    "# YOUR CODE HERE\n",
    "print(total_crypto_wallet)"
   ]
  },
  {
   "cell_type": "markdown",
   "metadata": {},
   "source": [
    "### Evaluate the Stock and Bond Holdings by Using the Alpaca SDK\n",
    "\n",
    "In this section, you’ll determine the current value of a member’s stock and bond holdings. You’ll make an API call to Alpaca via the Alpaca SDK to get the current closing prices of the SPDR S&P 500 ETF Trust (ticker: SPY) and of the iShares Core US Aggregate Bond ETF (ticker: AGG). For the prototype, assume that the member holds 110 shares of SPY, which represents the stock portion of their portfolio, and 200 shares of AGG, which represents the bond portion. To do all this, complete the following steps:\n",
    "\n",
    "1. In the `Starter_Code` folder, create an environment file (`.env`) to store the values of your Alpaca API key and Alpaca secret key.\n",
    "\n",
    "2. Set the variables for the Alpaca API and secret keys. Using the Alpaca SDK, create the Alpaca `tradeapi.REST` object. In this object, include the parameters for the Alpaca API key, the secret key, and the version number.\n",
    "\n",
    "3. Set the following parameters for the Alpaca API call:\n",
    "\n",
    "    - `tickers`: Use the tickers for the member’s stock and bond holdings.\n",
    "\n",
    "    - `timeframe`: Use a time frame of one day.\n",
    "\n",
    "    - `start_date` and `end_date`: Use the same date for these parameters, and format them with the date of the previous weekday (or `2020-08-07`). This is because you want the one closing price for the most-recent trading day.\n",
    "\n",
    "4. Get the current closing prices for `SPY` and `AGG` by using the Alpaca `get_barset` function. Format the response as a Pandas DataFrame by including the `df` property at the end of the `get_barset` function.\n",
    "\n",
    "5. Navigating the Alpaca response DataFrame, select the `SPY` and `AGG` closing prices, and store them as variables.\n",
    "\n",
    "6. Calculate the value, in US dollars, of the current amount of shares in each of the stock and bond portions of the portfolio, and print the results.\n"
   ]
  },
  {
   "cell_type": "markdown",
   "metadata": {},
   "source": [
    "#### Review the total number of shares held in both (SPY) and (AGG)."
   ]
  },
  {
   "cell_type": "code",
   "execution_count": 16,
   "metadata": {},
   "outputs": [],
   "source": [
    "# Current amount of shares held in both the stock (SPY) and bond (AGG) portion of the portfolio.\n",
    "spy_shares = 110\n",
    "agg_shares = 200\n"
   ]
  },
  {
   "cell_type": "markdown",
   "metadata": {},
   "source": [
    "#### Step 1: In the `Starter_Code` folder, create an environment file (`.env`) to store the values of your Alpaca API key and Alpaca secret key."
   ]
  },
  {
   "cell_type": "markdown",
   "metadata": {},
   "source": [
    "#### Step 2: Set the variables for the Alpaca API and secret keys. Using the Alpaca SDK, create the Alpaca `tradeapi.REST` object. In this object, include the parameters for the Alpaca API key, the secret key, and the version number."
   ]
  },
  {
   "cell_type": "code",
   "execution_count": 19,
   "metadata": {},
   "outputs": [],
   "source": [
    "# Set the variables for the Alpaca API and secret keys\n",
    "# YOUR CODE HERE\n",
    "# YOUR CODE HERE\n",
    "alpaca_api_key = os.getenv(\"ALPACA_API_KEY\")\n",
    "alpaca_secret_key = os.getenv(\"ALPACA_SECRET_KEY\")\n",
    "# Create the Alpaca tradeapi.REST object\n",
    "# YOUR CODE HERE\n",
    "alpaca = tradeapi.REST(alpaca_api_key, alpaca_secret_key, api_version =\"v2\")"
   ]
  },
  {
   "cell_type": "markdown",
   "metadata": {},
   "source": [
    "#### Step 3: Set the following parameters for the Alpaca API call:\n",
    "\n",
    "- `tickers`: Use the tickers for the member’s stock and bond holdings.\n",
    "\n",
    "- `timeframe`: Use a time frame of one day.\n",
    "\n",
    "- `start_date` and `end_date`: Use the same date for these parameters, and format them with the date of the previous weekday (or `2020-08-07`). This is because you want the one closing price for the most-recent trading day.\n"
   ]
  },
  {
   "cell_type": "code",
   "execution_count": 20,
   "metadata": {},
   "outputs": [],
   "source": [
    "# Set the tickers for both the bond and stock portion of the portfolio\n",
    "# YOUR CODE HERE\n",
    "tickers = [\"SPY\",\"AGG\"]\n",
    "# Set timeframe to 1D \n",
    "# YOUR CODE HERE\n",
    "timeframe = \"1D\"\n",
    "# Format current date as ISO format\n",
    "# Set both the start and end date at the date of your prior weekday \n",
    "# This will give you the closing price of the previous trading day\n",
    "# Alternatively you can use a start and end date of 2020-08-07\n",
    "# YOUR CODE HERE\n",
    "# YOUR CODE HERE\n",
    "start_date = pd.Timestamp(\"2020-08-07\", tz = \"America/New_York\").isoformat()\n",
    "end_date = pd.Timestamp(\"2020-08-07\", tz = \"America/New_York\").isoformat()"
   ]
  },
  {
   "cell_type": "markdown",
   "metadata": {},
   "source": [
    "#### Step 4: Get the current closing prices for `SPY` and `AGG` by using the Alpaca `get_barset` function. Format the response as a Pandas DataFrame by including the `df` property at the end of the `get_barset` function."
   ]
  },
  {
   "cell_type": "code",
   "execution_count": 21,
   "metadata": {},
   "outputs": [
    {
     "data": {
      "text/html": [
       "<div>\n",
       "<style scoped>\n",
       "    .dataframe tbody tr th:only-of-type {\n",
       "        vertical-align: middle;\n",
       "    }\n",
       "\n",
       "    .dataframe tbody tr th {\n",
       "        vertical-align: top;\n",
       "    }\n",
       "\n",
       "    .dataframe thead tr th {\n",
       "        text-align: left;\n",
       "    }\n",
       "\n",
       "    .dataframe thead tr:last-of-type th {\n",
       "        text-align: right;\n",
       "    }\n",
       "</style>\n",
       "<table border=\"1\" class=\"dataframe\">\n",
       "  <thead>\n",
       "    <tr>\n",
       "      <th></th>\n",
       "      <th colspan=\"5\" halign=\"left\">AGG</th>\n",
       "      <th colspan=\"5\" halign=\"left\">SPY</th>\n",
       "    </tr>\n",
       "    <tr>\n",
       "      <th></th>\n",
       "      <th>open</th>\n",
       "      <th>high</th>\n",
       "      <th>low</th>\n",
       "      <th>close</th>\n",
       "      <th>volume</th>\n",
       "      <th>open</th>\n",
       "      <th>high</th>\n",
       "      <th>low</th>\n",
       "      <th>close</th>\n",
       "      <th>volume</th>\n",
       "    </tr>\n",
       "    <tr>\n",
       "      <th>time</th>\n",
       "      <th></th>\n",
       "      <th></th>\n",
       "      <th></th>\n",
       "      <th></th>\n",
       "      <th></th>\n",
       "      <th></th>\n",
       "      <th></th>\n",
       "      <th></th>\n",
       "      <th></th>\n",
       "      <th></th>\n",
       "    </tr>\n",
       "  </thead>\n",
       "  <tbody>\n",
       "    <tr>\n",
       "      <th>2020-08-07 00:00:00-04:00</th>\n",
       "      <td>119.66</td>\n",
       "      <td>119.73</td>\n",
       "      <td>119.395</td>\n",
       "      <td>119.445</td>\n",
       "      <td>8830420</td>\n",
       "      <td>333.28</td>\n",
       "      <td>334.88</td>\n",
       "      <td>332.3</td>\n",
       "      <td>334.55</td>\n",
       "      <td>98710236</td>\n",
       "    </tr>\n",
       "  </tbody>\n",
       "</table>\n",
       "</div>"
      ],
      "text/plain": [
       "                              AGG                                        SPY  \\\n",
       "                             open    high      low    close   volume    open   \n",
       "time                                                                           \n",
       "2020-08-07 00:00:00-04:00  119.66  119.73  119.395  119.445  8830420  333.28   \n",
       "\n",
       "                                                            \n",
       "                             high    low   close    volume  \n",
       "time                                                        \n",
       "2020-08-07 00:00:00-04:00  334.88  332.3  334.55  98710236  "
      ]
     },
     "execution_count": 21,
     "metadata": {},
     "output_type": "execute_result"
    }
   ],
   "source": [
    "# Use the Alpaca get_barset function to get current closing prices the portfolio\n",
    "# Be sure to set the `df` property after the function to format the response object as a DataFrame\n",
    "# YOUR CODE HERE\n",
    "price_df = alpaca.get_barset(tickers, timeframe, start = start_date, end = end_date).df\n",
    "# Review the first 5 rows of the Alpaca DataFrame\n",
    "# YOUR CODE HERE\n",
    "price_df.head()"
   ]
  },
  {
   "cell_type": "markdown",
   "metadata": {},
   "source": [
    "#### Step 5: Navigating the Alpaca response DataFrame, select the `SPY` and `AGG` closing prices, and store them as variables."
   ]
  },
  {
   "cell_type": "code",
   "execution_count": 25,
   "metadata": {},
   "outputs": [
    {
     "name": "stdout",
     "output_type": "stream",
     "text": [
      "119.445\n"
     ]
    }
   ],
   "source": [
    "# Access the closing price for AGG from the Alpaca DataFrame\n",
    "# Converting the value to a floating point number\n",
    "agg_close_price = float(price_df[\"AGG\"][\"close\"])\n",
    "\n",
    "# Print the AGG closing price\n",
    "# YOUR CODE HERE\n",
    "print(agg_close_price)"
   ]
  },
  {
   "cell_type": "code",
   "execution_count": 27,
   "metadata": {},
   "outputs": [
    {
     "name": "stdout",
     "output_type": "stream",
     "text": [
      "334.55\n"
     ]
    }
   ],
   "source": [
    "# Access the closing price for SPY from the Alpaca DataFrame\n",
    "# Converting the value to a floating point number\n",
    "spy_close_price = float(price_df[\"SPY\"][\"close\"])\n",
    "\n",
    "# Print the SPY closing price\n",
    "# YOUR CODE HERE\n",
    "print(spy_close_price)"
   ]
  },
  {
   "cell_type": "markdown",
   "metadata": {},
   "source": [
    "#### Step 6: Calculate the value, in US dollars, of the current amount of shares in each of the stock and bond portions of the portfolio, and print the results."
   ]
  },
  {
   "cell_type": "code",
   "execution_count": 28,
   "metadata": {},
   "outputs": [
    {
     "name": "stdout",
     "output_type": "stream",
     "text": [
      "23889.0\n"
     ]
    }
   ],
   "source": [
    "# Calculate the current value of the bond portion of the portfolio\n",
    "agg_value = agg_shares*agg_close_price\n",
    "\n",
    "# Print the current value of the bond portfolio\n",
    "# YOUR CODE HERE\n",
    "print(agg_value)"
   ]
  },
  {
   "cell_type": "code",
   "execution_count": 30,
   "metadata": {},
   "outputs": [
    {
     "name": "stdout",
     "output_type": "stream",
     "text": [
      "36800.5\n"
     ]
    }
   ],
   "source": [
    "# Calculate the current value of the stock portion of the portfolio\n",
    "spy_value = spy_shares*spy_close_price\n",
    "\n",
    "# Print the current value of the stock portfolio\n",
    "# YOUR CODE HERE\n",
    "print(spy_value)"
   ]
  },
  {
   "cell_type": "code",
   "execution_count": 31,
   "metadata": {},
   "outputs": [
    {
     "name": "stdout",
     "output_type": "stream",
     "text": [
      "60689.5\n"
     ]
    }
   ],
   "source": [
    "# Calculate the total value of the stock and bond portion of the portfolio\n",
    "total_stocks_bonds = agg_value+spy_value\n",
    "\n",
    "# Print the current balance of the stock and bond portion of the portfolio\n",
    "# YOUR CODE HERE\n",
    "print(total_stocks_bonds)"
   ]
  },
  {
   "cell_type": "code",
   "execution_count": 33,
   "metadata": {},
   "outputs": [
    {
     "name": "stdout",
     "output_type": "stream",
     "text": [
      "112255.20300000001\n"
     ]
    }
   ],
   "source": [
    "# Calculate the total value of the member's entire savings portfolio\n",
    "# Add the value of the cryptocurrency walled to the value of the total stocks and bonds\n",
    "total_portfolio = total_crypto_wallet+total_stocks_bonds\n",
    "\n",
    "# Print current cryptocurrency wallet balance\n",
    "# YOUR CODE HERE\n",
    "print(total_portfolio)"
   ]
  },
  {
   "cell_type": "markdown",
   "metadata": {},
   "source": [
    "### Evaluate the Emergency Fund\n",
    "\n",
    "In this section, you’ll use the valuations for the cryptocurrency wallet and for the stock and bond portions of the portfolio to determine if the credit union member has enough savings to build an emergency fund into their financial plan. To do this, complete the following steps:\n",
    "\n",
    "1. Create a Python list named `savings_data` that has two elements. The first element contains the total value of the cryptocurrency wallet. The second element contains the total value of the stock and bond portions of the portfolio.\n",
    "\n",
    "2. Use the `savings_data` list to create a Pandas DataFrame named `savings_df`, and then display this DataFrame. The function to create the DataFrame should take the following three parameters:\n",
    "\n",
    "    - `savings_data`: Use the list that you just created.\n",
    "\n",
    "    - `columns`: Set this parameter equal to a Python list with a single value called `amount`.\n",
    "\n",
    "    - `index`: Set this parameter equal to a Python list with the values of `crypto` and `stock/bond`.\n",
    "\n",
    "3. Use the `savings_df` DataFrame to plot a pie chart that visualizes the composition of the member’s portfolio. The y-axis of the pie chart uses `amount`. Be sure to add a title.\n",
    "\n",
    "4. Using Python, determine if the current portfolio has enough to create an emergency fund as part of the member’s financial plan. Ideally, an emergency fund should equal to three times the member’s monthly income. To do this, implement the following steps:\n",
    "\n",
    "    1. Create a variable named `emergency_fund_value`, and set it equal to three times the value of the member’s `monthly_income` of $12000. (You set this earlier in Part 1).\n",
    "\n",
    "    2. Create a series of three if statements to determine if the member’s total portfolio is large enough to fund the emergency portfolio:\n",
    "\n",
    "        1. If the total portfolio value is greater than the emergency fund value, display a message congratulating the member for having enough money in this fund.\n",
    "\n",
    "        2. Else if the total portfolio value is equal to the emergency fund value, display a message congratulating the member on reaching this important financial goal.\n",
    "\n",
    "        3. Else the total portfolio is less than the emergency fund value, so display a message showing how many dollars away the member is from reaching the goal. (Subtract the total portfolio value from the emergency fund value.)\n"
   ]
  },
  {
   "cell_type": "markdown",
   "metadata": {},
   "source": [
    "#### Step 1: Create a Python list named `savings_data` that has two elements. The first element contains the total value of the cryptocurrency wallet. The second element contains the total value of the stock and bond portions of the portfolio."
   ]
  },
  {
   "cell_type": "code",
   "execution_count": 37,
   "metadata": {},
   "outputs": [
    {
     "name": "stdout",
     "output_type": "stream",
     "text": [
      "[51565.703, 60689.5]\n"
     ]
    }
   ],
   "source": [
    "# Consolidate financial assets data into a Python list\n",
    "# YOUR CODE HERE\n",
    "savings_data = [total_crypto_wallet,total_stocks_bonds]\n",
    "index = [\"cryptop\", \"stock/bond\"]\n",
    "# Review the Python list savings_data\n",
    "# YOUR CODE HERE\n",
    "print(savings_data)"
   ]
  },
  {
   "cell_type": "markdown",
   "metadata": {},
   "source": [
    "#### Step 2: Use the `savings_data` list to create a Pandas DataFrame named `savings_df`, and then display this DataFrame. The function to create the DataFrame should take the following three parameters:\n",
    "\n",
    "- `savings_data`: Use the list that you just created.\n",
    "\n",
    "- `columns`: Set this parameter equal to a Python list with a single value called `amount`.\n",
    "\n",
    "- `index`: Set this parameter equal to a Python list with the values of `crypto` and `stock/bond`.\n"
   ]
  },
  {
   "cell_type": "code",
   "execution_count": 41,
   "metadata": {},
   "outputs": [
    {
     "data": {
      "text/html": [
       "<div>\n",
       "<style scoped>\n",
       "    .dataframe tbody tr th:only-of-type {\n",
       "        vertical-align: middle;\n",
       "    }\n",
       "\n",
       "    .dataframe tbody tr th {\n",
       "        vertical-align: top;\n",
       "    }\n",
       "\n",
       "    .dataframe thead th {\n",
       "        text-align: right;\n",
       "    }\n",
       "</style>\n",
       "<table border=\"1\" class=\"dataframe\">\n",
       "  <thead>\n",
       "    <tr style=\"text-align: right;\">\n",
       "      <th></th>\n",
       "      <th>amount</th>\n",
       "    </tr>\n",
       "  </thead>\n",
       "  <tbody>\n",
       "    <tr>\n",
       "      <th>crypto</th>\n",
       "      <td>51565.703</td>\n",
       "    </tr>\n",
       "    <tr>\n",
       "      <th>stock/bond</th>\n",
       "      <td>60689.500</td>\n",
       "    </tr>\n",
       "  </tbody>\n",
       "</table>\n",
       "</div>"
      ],
      "text/plain": [
       "               amount\n",
       "crypto      51565.703\n",
       "stock/bond  60689.500"
      ]
     },
     "execution_count": 41,
     "metadata": {},
     "output_type": "execute_result"
    }
   ],
   "source": [
    "# Create a Pandas DataFrame called savings_df \n",
    "# YOUR CODE HERE\n",
    "savings_df = pd.DataFrame(savings_data, index = ['crypto','stock/bond'], columns = ['amount'])\n",
    "# Display the savings_df DataFrame\n",
    "# YOUR CODE HERE\n",
    "savings_df"
   ]
  },
  {
   "cell_type": "markdown",
   "metadata": {},
   "source": [
    "#### Step 3: Use the `savings_df` DataFrame to plot a pie chart that visualizes the composition of the member’s portfolio. The y-axis of the pie chart uses `amount`. Be sure to add a title."
   ]
  },
  {
   "cell_type": "code",
   "execution_count": 46,
   "metadata": {},
   "outputs": [
    {
     "data": {
      "text/plain": [
       "<AxesSubplot:title={'center':'Portfolio Weighting'}, ylabel='amount'>"
      ]
     },
     "execution_count": 46,
     "metadata": {},
     "output_type": "execute_result"
    },
    {
     "data": {
      "image/png": "[encoded data removed]",
      "text/plain": [
       "<Figure size 1440x720 with 1 Axes>"
      ]
     },
     "metadata": {},
     "output_type": "display_data"
    }
   ],
   "source": [
    "# Plot the total value of the member's portfolio (crypto and stock/bond) in a pie chart\n",
    "# YOUR CODE HERE\n",
    "savings_df['amount'].plot(kind='pie',figsize=(20,10),title='Portfolio Weighting')"
   ]
  },
  {
   "cell_type": "markdown",
   "metadata": {},
   "source": [
    "#### Step 4: Using Python, determine if the current portfolio has enough to create an emergency fund as part of the member’s financial plan. Ideally, an emergency fund should equal to three times the member’s monthly income. To do this, implement the following steps:\n",
    "\n",
    "Step 1. Create a variable named `emergency_fund_value`, and set it equal to three times the value of the member’s `monthly_income` of 12000. (You set this earlier in Part 1).\n",
    "\n",
    "Step 2. Create a series of three if statements to determine if the member’s total portfolio is large enough to fund the emergency portfolio:\n",
    "\n",
    "* If the total portfolio value is greater than the emergency fund value, display a message congratulating the member for having enough money in this fund.\n",
    "\n",
    "* Else if the total portfolio value is equal to the emergency fund value, display a message congratulating the member on reaching this important financial goal.\n",
    "\n",
    "* Else the total portfolio is less than the emergency fund value, so display a message showing how many dollars away the member is from reaching the goal. (Subtract the total portfolio value from the emergency fund value.)\n"
   ]
  },
  {
   "cell_type": "markdown",
   "metadata": {},
   "source": [
    "##### Step 4-1: Create a variable named `emergency_fund_value`, and set it equal to three times the value of the member’s `monthly_income` of 12000. (You set this earlier in Part 1)."
   ]
  },
  {
   "cell_type": "code",
   "execution_count": 47,
   "metadata": {},
   "outputs": [],
   "source": [
    "# Create a variable named emergency_fund_value\n",
    "# YOUR CODE HERE\n",
    "emergency_fund_value = monthly_income*3"
   ]
  },
  {
   "cell_type": "markdown",
   "metadata": {},
   "source": [
    "##### Step 4-2: Create a series of three if statements to determine if the member’s total portfolio is large enough to fund the emergency portfolio:\n",
    "\n",
    "* If the total portfolio value is greater than the emergency fund value, display a message congratulating the member for having enough money in this fund.\n",
    "\n",
    "* Else if the total portfolio value is equal to the emergency fund value, display a message congratulating the member on reaching this important financial goal.\n",
    "\n",
    "* Else the total portfolio is less than the emergency fund value, so display a message showing how many dollars away the member is from reaching the goal. (Subtract the total portfolio value from the emergency fund value.)"
   ]
  },
  {
   "cell_type": "code",
   "execution_count": 55,
   "metadata": {},
   "outputs": [
    {
     "name": "stdout",
     "output_type": "stream",
     "text": [
      "Congratulatiion that you have enough money in this fund!\n"
     ]
    }
   ],
   "source": [
    "# Evaluate the possibility of creating an emergency fund with 3 conditions:\n",
    "# YOUR CODE HERE\n",
    "# YOUR CODE HERE\n",
    "# YOUR CODE HERE\n",
    "difference_goal = emergency_fund_value - total_portfolio\n",
    "if total_portfolio > emergency_fund_value:\n",
    "    print(\"Congratulatiion that you have enough money in this fund!\")\n",
    "elif total_portfolio == emergency_fund_value:\n",
    "    print(\"You have reached an important financial goal!\")\n",
    "else:\n",
    "    print(f'You still need {difference_goal} to reach the goal!')"
   ]
  },
  {
   "cell_type": "markdown",
   "metadata": {},
   "source": [
    "## Part 2: Create a Financial Planner for Retirement"
   ]
  },
  {
   "cell_type": "markdown",
   "metadata": {},
   "source": [
    "### Create the Monte Carlo Simulation\n",
    "\n",
    "In this section, you’ll use the MCForecastTools library to create a Monte Carlo simulation for the member’s savings portfolio. To do this, complete the following steps:\n",
    "\n",
    "1. Make an API call via the Alpaca SDK to get 10 years of historical closing prices for a traditional 60/40 portfolio split: 60% stocks (SPY) and 40% bonds (AGG).\n",
    "\n",
    "2. Run a Monte Carlo simulation of 500 samples and 30 years for the 60/40 portfolio, and then plot the results.The following image shows the overlay line plot resulting from a simulation with these characteristics. However, because a random number generator is used to run each live Monte Carlo simulation, your image will differ slightly from this exact image:\n",
    "\n",
    "![A screenshot depicts the resulting plot.](Images/5-4-monte-carlo-line-plot.png)\n",
    "\n",
    "3. Plot the probability distribution of the Monte Carlo simulation. Plot the probability distribution of the Monte Carlo simulation. The following image shows the histogram plot resulting from a simulation with these characteristics. However, because a random number generator is used to run each live Monte Carlo simulation, your image will differ slightly from this exact image:\n",
    "\n",
    "![A screenshot depicts the histogram plot.](Images/5-4-monte-carlo-histogram.png)\n",
    "\n",
    "4. Generate the summary statistics for the Monte Carlo simulation.\n",
    "\n"
   ]
  },
  {
   "cell_type": "markdown",
   "metadata": {},
   "source": [
    "#### Step 1: Make an API call via the Alpaca SDK to get 10 years of historical closing prices for a traditional 60/40 portfolio split: 60% stocks (SPY) and 40% bonds (AGG)."
   ]
  },
  {
   "cell_type": "code",
   "execution_count": 65,
   "metadata": {},
   "outputs": [],
   "source": [
    "# Set start and end dates of 10 years back from your current date\n",
    "# Alternatively, you can use an end date of 2020-08-07 and work 10 years back from that date \n",
    "# YOUR CODE HERE\n",
    "# YOUR CODE HERE\n",
    "start_date1 = pd.Timestamp(\"2010-08-07\", tz ='America/New_York').isoformat()\n",
    "end_date1 = pd.Timestamp('2020-08-07', tz = 'America/New_York').isoformat()\n",
    "start_date2 = pd.Timestamp(\"2010-08-07\", tz ='America/New_York').isoformat()\n",
    "end_date2 = pd.Timestamp(\"2016-08-16\", tz ='America/New_York').isoformat()\n",
    "end_date3 = pd.Timestamp(\"2012-08-23\", tz ='America/New_York').isoformat()\n"
   ]
  },
  {
   "cell_type": "code",
   "execution_count": 71,
   "metadata": {},
   "outputs": [
    {
     "data": {
      "text/html": [
       "<div>\n",
       "<style scoped>\n",
       "    .dataframe tbody tr th:only-of-type {\n",
       "        vertical-align: middle;\n",
       "    }\n",
       "\n",
       "    .dataframe tbody tr th {\n",
       "        vertical-align: top;\n",
       "    }\n",
       "\n",
       "    .dataframe thead tr th {\n",
       "        text-align: left;\n",
       "    }\n",
       "\n",
       "    .dataframe thead tr:last-of-type th {\n",
       "        text-align: right;\n",
       "    }\n",
       "</style>\n",
       "<table border=\"1\" class=\"dataframe\">\n",
       "  <thead>\n",
       "    <tr>\n",
       "      <th></th>\n",
       "      <th colspan=\"5\" halign=\"left\">AGG</th>\n",
       "      <th colspan=\"5\" halign=\"left\">SPY</th>\n",
       "    </tr>\n",
       "    <tr>\n",
       "      <th></th>\n",
       "      <th>open</th>\n",
       "      <th>high</th>\n",
       "      <th>low</th>\n",
       "      <th>close</th>\n",
       "      <th>volume</th>\n",
       "      <th>open</th>\n",
       "      <th>high</th>\n",
       "      <th>low</th>\n",
       "      <th>close</th>\n",
       "      <th>volume</th>\n",
       "    </tr>\n",
       "    <tr>\n",
       "      <th>time</th>\n",
       "      <th></th>\n",
       "      <th></th>\n",
       "      <th></th>\n",
       "      <th></th>\n",
       "      <th></th>\n",
       "      <th></th>\n",
       "      <th></th>\n",
       "      <th></th>\n",
       "      <th></th>\n",
       "      <th></th>\n",
       "    </tr>\n",
       "  </thead>\n",
       "  <tbody>\n",
       "    <tr>\n",
       "      <th>2010-08-09 00:00:00-04:00</th>\n",
       "      <td>107.66</td>\n",
       "      <td>107.680</td>\n",
       "      <td>107.53</td>\n",
       "      <td>107.63</td>\n",
       "      <td>478988</td>\n",
       "      <td>112.92</td>\n",
       "      <td>113.18</td>\n",
       "      <td>112.3200</td>\n",
       "      <td>112.9801</td>\n",
       "      <td>89387651</td>\n",
       "    </tr>\n",
       "    <tr>\n",
       "      <th>2010-08-10 00:00:00-04:00</th>\n",
       "      <td>107.63</td>\n",
       "      <td>107.920</td>\n",
       "      <td>107.56</td>\n",
       "      <td>107.83</td>\n",
       "      <td>532447</td>\n",
       "      <td>112.03</td>\n",
       "      <td>112.98</td>\n",
       "      <td>111.3701</td>\n",
       "      <td>112.4200</td>\n",
       "      <td>202262432</td>\n",
       "    </tr>\n",
       "    <tr>\n",
       "      <th>2010-08-11 00:00:00-04:00</th>\n",
       "      <td>107.91</td>\n",
       "      <td>107.956</td>\n",
       "      <td>107.79</td>\n",
       "      <td>107.91</td>\n",
       "      <td>665686</td>\n",
       "      <td>110.65</td>\n",
       "      <td>110.69</td>\n",
       "      <td>109.1200</td>\n",
       "      <td>109.2901</td>\n",
       "      <td>223970698</td>\n",
       "    </tr>\n",
       "    <tr>\n",
       "      <th>2010-08-12 00:00:00-04:00</th>\n",
       "      <td>107.93</td>\n",
       "      <td>107.980</td>\n",
       "      <td>107.67</td>\n",
       "      <td>107.74</td>\n",
       "      <td>640614</td>\n",
       "      <td>107.64</td>\n",
       "      <td>109.02</td>\n",
       "      <td>107.6000</td>\n",
       "      <td>108.6400</td>\n",
       "      <td>190434932</td>\n",
       "    </tr>\n",
       "    <tr>\n",
       "      <th>2010-08-13 00:00:00-04:00</th>\n",
       "      <td>107.77</td>\n",
       "      <td>108.000</td>\n",
       "      <td>107.67</td>\n",
       "      <td>108.00</td>\n",
       "      <td>563778</td>\n",
       "      <td>108.29</td>\n",
       "      <td>108.96</td>\n",
       "      <td>108.1800</td>\n",
       "      <td>108.3000</td>\n",
       "      <td>130664078</td>\n",
       "    </tr>\n",
       "  </tbody>\n",
       "</table>\n",
       "</div>"
      ],
      "text/plain": [
       "                              AGG                                      SPY  \\\n",
       "                             open     high     low   close  volume    open   \n",
       "time                                                                         \n",
       "2010-08-09 00:00:00-04:00  107.66  107.680  107.53  107.63  478988  112.92   \n",
       "2010-08-10 00:00:00-04:00  107.63  107.920  107.56  107.83  532447  112.03   \n",
       "2010-08-11 00:00:00-04:00  107.91  107.956  107.79  107.91  665686  110.65   \n",
       "2010-08-12 00:00:00-04:00  107.93  107.980  107.67  107.74  640614  107.64   \n",
       "2010-08-13 00:00:00-04:00  107.77  108.000  107.67  108.00  563778  108.29   \n",
       "\n",
       "                                                                  \n",
       "                             high       low     close     volume  \n",
       "time                                                              \n",
       "2010-08-09 00:00:00-04:00  113.18  112.3200  112.9801   89387651  \n",
       "2010-08-10 00:00:00-04:00  112.98  111.3701  112.4200  202262432  \n",
       "2010-08-11 00:00:00-04:00  110.69  109.1200  109.2901  223970698  \n",
       "2010-08-12 00:00:00-04:00  109.02  107.6000  108.6400  190434932  \n",
       "2010-08-13 00:00:00-04:00  108.96  108.1800  108.3000  130664078  "
      ]
     },
     "metadata": {},
     "output_type": "display_data"
    },
    {
     "data": {
      "text/html": [
       "<div>\n",
       "<style scoped>\n",
       "    .dataframe tbody tr th:only-of-type {\n",
       "        vertical-align: middle;\n",
       "    }\n",
       "\n",
       "    .dataframe tbody tr th {\n",
       "        vertical-align: top;\n",
       "    }\n",
       "\n",
       "    .dataframe thead tr th {\n",
       "        text-align: left;\n",
       "    }\n",
       "\n",
       "    .dataframe thead tr:last-of-type th {\n",
       "        text-align: right;\n",
       "    }\n",
       "</style>\n",
       "<table border=\"1\" class=\"dataframe\">\n",
       "  <thead>\n",
       "    <tr>\n",
       "      <th></th>\n",
       "      <th colspan=\"5\" halign=\"left\">AGG</th>\n",
       "      <th colspan=\"5\" halign=\"left\">SPY</th>\n",
       "    </tr>\n",
       "    <tr>\n",
       "      <th></th>\n",
       "      <th>open</th>\n",
       "      <th>high</th>\n",
       "      <th>low</th>\n",
       "      <th>close</th>\n",
       "      <th>volume</th>\n",
       "      <th>open</th>\n",
       "      <th>high</th>\n",
       "      <th>low</th>\n",
       "      <th>close</th>\n",
       "      <th>volume</th>\n",
       "    </tr>\n",
       "    <tr>\n",
       "      <th>time</th>\n",
       "      <th></th>\n",
       "      <th></th>\n",
       "      <th></th>\n",
       "      <th></th>\n",
       "      <th></th>\n",
       "      <th></th>\n",
       "      <th></th>\n",
       "      <th></th>\n",
       "      <th></th>\n",
       "      <th></th>\n",
       "    </tr>\n",
       "  </thead>\n",
       "  <tbody>\n",
       "    <tr>\n",
       "      <th>2020-08-03 00:00:00-04:00</th>\n",
       "      <td>119.37</td>\n",
       "      <td>119.40</td>\n",
       "      <td>119.1903</td>\n",
       "      <td>119.400</td>\n",
       "      <td>24615464</td>\n",
       "      <td>328.3200</td>\n",
       "      <td>329.62</td>\n",
       "      <td>327.73</td>\n",
       "      <td>328.76</td>\n",
       "      <td>89861354</td>\n",
       "    </tr>\n",
       "    <tr>\n",
       "      <th>2020-08-04 00:00:00-04:00</th>\n",
       "      <td>119.42</td>\n",
       "      <td>119.63</td>\n",
       "      <td>119.4200</td>\n",
       "      <td>119.630</td>\n",
       "      <td>21512268</td>\n",
       "      <td>327.8600</td>\n",
       "      <td>330.06</td>\n",
       "      <td>327.86</td>\n",
       "      <td>330.03</td>\n",
       "      <td>73684427</td>\n",
       "    </tr>\n",
       "    <tr>\n",
       "      <th>2020-08-05 00:00:00-04:00</th>\n",
       "      <td>119.39</td>\n",
       "      <td>119.49</td>\n",
       "      <td>119.3100</td>\n",
       "      <td>119.400</td>\n",
       "      <td>34239733</td>\n",
       "      <td>331.4700</td>\n",
       "      <td>332.39</td>\n",
       "      <td>331.18</td>\n",
       "      <td>332.06</td>\n",
       "      <td>72941562</td>\n",
       "    </tr>\n",
       "    <tr>\n",
       "      <th>2020-08-06 00:00:00-04:00</th>\n",
       "      <td>119.62</td>\n",
       "      <td>119.73</td>\n",
       "      <td>119.5300</td>\n",
       "      <td>119.580</td>\n",
       "      <td>9021388</td>\n",
       "      <td>331.4799</td>\n",
       "      <td>334.46</td>\n",
       "      <td>331.13</td>\n",
       "      <td>334.31</td>\n",
       "      <td>76988181</td>\n",
       "    </tr>\n",
       "    <tr>\n",
       "      <th>2020-08-07 00:00:00-04:00</th>\n",
       "      <td>119.66</td>\n",
       "      <td>119.73</td>\n",
       "      <td>119.3950</td>\n",
       "      <td>119.445</td>\n",
       "      <td>8830420</td>\n",
       "      <td>333.2800</td>\n",
       "      <td>334.88</td>\n",
       "      <td>332.30</td>\n",
       "      <td>334.55</td>\n",
       "      <td>98710236</td>\n",
       "    </tr>\n",
       "  </tbody>\n",
       "</table>\n",
       "</div>"
      ],
      "text/plain": [
       "                              AGG                                       \\\n",
       "                             open    high       low    close    volume   \n",
       "time                                                                     \n",
       "2020-08-03 00:00:00-04:00  119.37  119.40  119.1903  119.400  24615464   \n",
       "2020-08-04 00:00:00-04:00  119.42  119.63  119.4200  119.630  21512268   \n",
       "2020-08-05 00:00:00-04:00  119.39  119.49  119.3100  119.400  34239733   \n",
       "2020-08-06 00:00:00-04:00  119.62  119.73  119.5300  119.580   9021388   \n",
       "2020-08-07 00:00:00-04:00  119.66  119.73  119.3950  119.445   8830420   \n",
       "\n",
       "                                SPY                                    \n",
       "                               open    high     low   close    volume  \n",
       "time                                                                   \n",
       "2020-08-03 00:00:00-04:00  328.3200  329.62  327.73  328.76  89861354  \n",
       "2020-08-04 00:00:00-04:00  327.8600  330.06  327.86  330.03  73684427  \n",
       "2020-08-05 00:00:00-04:00  331.4700  332.39  331.18  332.06  72941562  \n",
       "2020-08-06 00:00:00-04:00  331.4799  334.46  331.13  334.31  76988181  \n",
       "2020-08-07 00:00:00-04:00  333.2800  334.88  332.30  334.55  98710236  "
      ]
     },
     "metadata": {},
     "output_type": "display_data"
    }
   ],
   "source": [
    "# Use the Alpaca get_barset function to make the API call to get the 10 years worth of pricing data\n",
    "# The tickers and timeframe parameters should have been set in Part 1 of this activity \n",
    "# The start and end dates should be updated with the information set above\n",
    "# Remember to add the df property to the end of the call so the response is returned as a DataFrame\n",
    "# YOUR CODE HERE\n",
    "price1_df = alpaca.get_barset(tickers,timeframe,limit=1000, start = start_date1, end = end_date1).df\n",
    "price2_df = alpaca.get_barset(tickers,timeframe,limit=1000, start = start_date1, end = end_date2).df\n",
    "price3_df = alpaca.get_barset(tickers,timeframe,limit=1000, start = start_date1, end = end_date3).df\n",
    "price_10year_df = price3_df.append(price2_df).append(price1_df)\n",
    "# Display both the first and last five rows of the DataFrame\n",
    "# YOUR CODE HERE\n",
    "# YOUR CODE HERE\n",
    "display(price_10year_df.head())\n",
    "display(price_10year_df.tail())"
   ]
  },
  {
   "cell_type": "markdown",
   "metadata": {},
   "source": [
    "#### Step 2: Run a Monte Carlo simulation of 500 samples and 30 years for the 60/40 portfolio, and then plot the results."
   ]
  },
  {
   "cell_type": "code",
   "execution_count": 72,
   "metadata": {},
   "outputs": [
    {
     "data": {
      "text/html": [
       "<div>\n",
       "<style scoped>\n",
       "    .dataframe tbody tr th:only-of-type {\n",
       "        vertical-align: middle;\n",
       "    }\n",
       "\n",
       "    .dataframe tbody tr th {\n",
       "        vertical-align: top;\n",
       "    }\n",
       "\n",
       "    .dataframe thead tr th {\n",
       "        text-align: left;\n",
       "    }\n",
       "\n",
       "    .dataframe thead tr:last-of-type th {\n",
       "        text-align: right;\n",
       "    }\n",
       "</style>\n",
       "<table border=\"1\" class=\"dataframe\">\n",
       "  <thead>\n",
       "    <tr>\n",
       "      <th></th>\n",
       "      <th colspan=\"6\" halign=\"left\">AGG</th>\n",
       "      <th colspan=\"6\" halign=\"left\">SPY</th>\n",
       "    </tr>\n",
       "    <tr>\n",
       "      <th></th>\n",
       "      <th>open</th>\n",
       "      <th>high</th>\n",
       "      <th>low</th>\n",
       "      <th>close</th>\n",
       "      <th>volume</th>\n",
       "      <th>daily_return</th>\n",
       "      <th>open</th>\n",
       "      <th>high</th>\n",
       "      <th>low</th>\n",
       "      <th>close</th>\n",
       "      <th>volume</th>\n",
       "      <th>daily_return</th>\n",
       "    </tr>\n",
       "    <tr>\n",
       "      <th>time</th>\n",
       "      <th></th>\n",
       "      <th></th>\n",
       "      <th></th>\n",
       "      <th></th>\n",
       "      <th></th>\n",
       "      <th></th>\n",
       "      <th></th>\n",
       "      <th></th>\n",
       "      <th></th>\n",
       "      <th></th>\n",
       "      <th></th>\n",
       "      <th></th>\n",
       "    </tr>\n",
       "  </thead>\n",
       "  <tbody>\n",
       "    <tr>\n",
       "      <th>2010-08-09 00:00:00-04:00</th>\n",
       "      <td>107.66</td>\n",
       "      <td>107.680</td>\n",
       "      <td>107.53</td>\n",
       "      <td>107.63</td>\n",
       "      <td>478988</td>\n",
       "      <td>NaN</td>\n",
       "      <td>112.92</td>\n",
       "      <td>113.18</td>\n",
       "      <td>112.3200</td>\n",
       "      <td>112.9801</td>\n",
       "      <td>89387651</td>\n",
       "      <td>NaN</td>\n",
       "    </tr>\n",
       "    <tr>\n",
       "      <th>2010-08-10 00:00:00-04:00</th>\n",
       "      <td>107.63</td>\n",
       "      <td>107.920</td>\n",
       "      <td>107.56</td>\n",
       "      <td>107.83</td>\n",
       "      <td>532447</td>\n",
       "      <td>0.001858</td>\n",
       "      <td>112.03</td>\n",
       "      <td>112.98</td>\n",
       "      <td>111.3701</td>\n",
       "      <td>112.4200</td>\n",
       "      <td>202262432</td>\n",
       "      <td>-0.004958</td>\n",
       "    </tr>\n",
       "    <tr>\n",
       "      <th>2010-08-11 00:00:00-04:00</th>\n",
       "      <td>107.91</td>\n",
       "      <td>107.956</td>\n",
       "      <td>107.79</td>\n",
       "      <td>107.91</td>\n",
       "      <td>665686</td>\n",
       "      <td>0.000742</td>\n",
       "      <td>110.65</td>\n",
       "      <td>110.69</td>\n",
       "      <td>109.1200</td>\n",
       "      <td>109.2901</td>\n",
       "      <td>223970698</td>\n",
       "      <td>-0.027841</td>\n",
       "    </tr>\n",
       "    <tr>\n",
       "      <th>2010-08-12 00:00:00-04:00</th>\n",
       "      <td>107.93</td>\n",
       "      <td>107.980</td>\n",
       "      <td>107.67</td>\n",
       "      <td>107.74</td>\n",
       "      <td>640614</td>\n",
       "      <td>-0.001575</td>\n",
       "      <td>107.64</td>\n",
       "      <td>109.02</td>\n",
       "      <td>107.6000</td>\n",
       "      <td>108.6400</td>\n",
       "      <td>190434932</td>\n",
       "      <td>-0.005948</td>\n",
       "    </tr>\n",
       "    <tr>\n",
       "      <th>2010-08-13 00:00:00-04:00</th>\n",
       "      <td>107.77</td>\n",
       "      <td>108.000</td>\n",
       "      <td>107.67</td>\n",
       "      <td>108.00</td>\n",
       "      <td>563778</td>\n",
       "      <td>0.002413</td>\n",
       "      <td>108.29</td>\n",
       "      <td>108.96</td>\n",
       "      <td>108.1800</td>\n",
       "      <td>108.3000</td>\n",
       "      <td>130664078</td>\n",
       "      <td>-0.003130</td>\n",
       "    </tr>\n",
       "  </tbody>\n",
       "</table>\n",
       "</div>"
      ],
      "text/plain": [
       "                              AGG                                   \\\n",
       "                             open     high     low   close  volume   \n",
       "time                                                                 \n",
       "2010-08-09 00:00:00-04:00  107.66  107.680  107.53  107.63  478988   \n",
       "2010-08-10 00:00:00-04:00  107.63  107.920  107.56  107.83  532447   \n",
       "2010-08-11 00:00:00-04:00  107.91  107.956  107.79  107.91  665686   \n",
       "2010-08-12 00:00:00-04:00  107.93  107.980  107.67  107.74  640614   \n",
       "2010-08-13 00:00:00-04:00  107.77  108.000  107.67  108.00  563778   \n",
       "\n",
       "                                           SPY                              \\\n",
       "                          daily_return    open    high       low     close   \n",
       "time                                                                         \n",
       "2010-08-09 00:00:00-04:00          NaN  112.92  113.18  112.3200  112.9801   \n",
       "2010-08-10 00:00:00-04:00     0.001858  112.03  112.98  111.3701  112.4200   \n",
       "2010-08-11 00:00:00-04:00     0.000742  110.65  110.69  109.1200  109.2901   \n",
       "2010-08-12 00:00:00-04:00    -0.001575  107.64  109.02  107.6000  108.6400   \n",
       "2010-08-13 00:00:00-04:00     0.002413  108.29  108.96  108.1800  108.3000   \n",
       "\n",
       "                                                   \n",
       "                              volume daily_return  \n",
       "time                                               \n",
       "2010-08-09 00:00:00-04:00   89387651          NaN  \n",
       "2010-08-10 00:00:00-04:00  202262432    -0.004958  \n",
       "2010-08-11 00:00:00-04:00  223970698    -0.027841  \n",
       "2010-08-12 00:00:00-04:00  190434932    -0.005948  \n",
       "2010-08-13 00:00:00-04:00  130664078    -0.003130  "
      ]
     },
     "execution_count": 72,
     "metadata": {},
     "output_type": "execute_result"
    }
   ],
   "source": [
    "# Configure the Monte Carlo simulation to forecast 30 years cumulative returns\n",
    "# The weights should be split 40% to AGG and 60% to SPY.\n",
    "# Run 500 samples.\n",
    "# YOUR CODE HERE\n",
    "MC_30year = MCSimulation(\n",
    "    portfolio_data = price_10year_df, \n",
    "    weights = [0.4,0.6], \n",
    "    num_simulation = 500, \n",
    "    num_trading_days = 252*30\n",
    ")\n",
    "# Review the simulation input data\n",
    "# YOUR CODE HERE\n",
    "MC_30year.portfolio_data.head()"
   ]
  },
  {
   "cell_type": "code",
   "execution_count": 73,
   "metadata": {},
   "outputs": [
    {
     "name": "stdout",
     "output_type": "stream",
     "text": [
      "Running Monte Carlo simulation number 0.\n",
      "Running Monte Carlo simulation number 10.\n",
      "Running Monte Carlo simulation number 20.\n",
      "Running Monte Carlo simulation number 30.\n",
      "Running Monte Carlo simulation number 40.\n",
      "Running Monte Carlo simulation number 50.\n",
      "Running Monte Carlo simulation number 60.\n",
      "Running Monte Carlo simulation number 70.\n",
      "Running Monte Carlo simulation number 80.\n",
      "Running Monte Carlo simulation number 90.\n",
      "Running Monte Carlo simulation number 100.\n",
      "Running Monte Carlo simulation number 110.\n",
      "Running Monte Carlo simulation number 120.\n",
      "Running Monte Carlo simulation number 130.\n",
      "Running Monte Carlo simulation number 140.\n",
      "Running Monte Carlo simulation number 150.\n",
      "Running Monte Carlo simulation number 160.\n",
      "Running Monte Carlo simulation number 170.\n",
      "Running Monte Carlo simulation number 180.\n",
      "Running Monte Carlo simulation number 190.\n",
      "Running Monte Carlo simulation number 200.\n",
      "Running Monte Carlo simulation number 210.\n",
      "Running Monte Carlo simulation number 220.\n",
      "Running Monte Carlo simulation number 230.\n",
      "Running Monte Carlo simulation number 240.\n",
      "Running Monte Carlo simulation number 250.\n",
      "Running Monte Carlo simulation number 260.\n",
      "Running Monte Carlo simulation number 270.\n",
      "Running Monte Carlo simulation number 280.\n",
      "Running Monte Carlo simulation number 290.\n",
      "Running Monte Carlo simulation number 300.\n",
      "Running Monte Carlo simulation number 310.\n",
      "Running Monte Carlo simulation number 320.\n",
      "Running Monte Carlo simulation number 330.\n",
      "Running Monte Carlo simulation number 340.\n",
      "Running Monte Carlo simulation number 350.\n",
      "Running Monte Carlo simulation number 360.\n",
      "Running Monte Carlo simulation number 370.\n",
      "Running Monte Carlo simulation number 380.\n",
      "Running Monte Carlo simulation number 390.\n",
      "Running Monte Carlo simulation number 400.\n",
      "Running Monte Carlo simulation number 410.\n",
      "Running Monte Carlo simulation number 420.\n",
      "Running Monte Carlo simulation number 430.\n",
      "Running Monte Carlo simulation number 440.\n",
      "Running Monte Carlo simulation number 450.\n",
      "Running Monte Carlo simulation number 460.\n",
      "Running Monte Carlo simulation number 470.\n",
      "Running Monte Carlo simulation number 480.\n",
      "Running Monte Carlo simulation number 490.\n"
     ]
    },
    {
     "data": {
      "text/html": [
       "<div>\n",
       "<style scoped>\n",
       "    .dataframe tbody tr th:only-of-type {\n",
       "        vertical-align: middle;\n",
       "    }\n",
       "\n",
       "    .dataframe tbody tr th {\n",
       "        vertical-align: top;\n",
       "    }\n",
       "\n",
       "    .dataframe thead th {\n",
       "        text-align: right;\n",
       "    }\n",
       "</style>\n",
       "<table border=\"1\" class=\"dataframe\">\n",
       "  <thead>\n",
       "    <tr style=\"text-align: right;\">\n",
       "      <th></th>\n",
       "      <th>0</th>\n",
       "      <th>1</th>\n",
       "      <th>2</th>\n",
       "      <th>3</th>\n",
       "      <th>4</th>\n",
       "      <th>5</th>\n",
       "      <th>6</th>\n",
       "      <th>7</th>\n",
       "      <th>8</th>\n",
       "      <th>9</th>\n",
       "      <th>...</th>\n",
       "      <th>490</th>\n",
       "      <th>491</th>\n",
       "      <th>492</th>\n",
       "      <th>493</th>\n",
       "      <th>494</th>\n",
       "      <th>495</th>\n",
       "      <th>496</th>\n",
       "      <th>497</th>\n",
       "      <th>498</th>\n",
       "      <th>499</th>\n",
       "    </tr>\n",
       "  </thead>\n",
       "  <tbody>\n",
       "    <tr>\n",
       "      <th>0</th>\n",
       "      <td>1.000000</td>\n",
       "      <td>1.000000</td>\n",
       "      <td>1.000000</td>\n",
       "      <td>1.000000</td>\n",
       "      <td>1.000000</td>\n",
       "      <td>1.000000</td>\n",
       "      <td>1.000000</td>\n",
       "      <td>1.000000</td>\n",
       "      <td>1.000000</td>\n",
       "      <td>1.000000</td>\n",
       "      <td>...</td>\n",
       "      <td>1.000000</td>\n",
       "      <td>1.000000</td>\n",
       "      <td>1.000000</td>\n",
       "      <td>1.000000</td>\n",
       "      <td>1.000000</td>\n",
       "      <td>1.000000</td>\n",
       "      <td>1.000000</td>\n",
       "      <td>1.000000</td>\n",
       "      <td>1.000000</td>\n",
       "      <td>1.000000</td>\n",
       "    </tr>\n",
       "    <tr>\n",
       "      <th>1</th>\n",
       "      <td>0.995534</td>\n",
       "      <td>1.002182</td>\n",
       "      <td>0.998708</td>\n",
       "      <td>1.006377</td>\n",
       "      <td>1.003434</td>\n",
       "      <td>1.008461</td>\n",
       "      <td>0.994673</td>\n",
       "      <td>1.003506</td>\n",
       "      <td>1.006742</td>\n",
       "      <td>0.996789</td>\n",
       "      <td>...</td>\n",
       "      <td>0.992882</td>\n",
       "      <td>1.011109</td>\n",
       "      <td>1.008512</td>\n",
       "      <td>0.997009</td>\n",
       "      <td>1.014240</td>\n",
       "      <td>0.999295</td>\n",
       "      <td>0.986761</td>\n",
       "      <td>0.986730</td>\n",
       "      <td>1.003315</td>\n",
       "      <td>0.994436</td>\n",
       "    </tr>\n",
       "    <tr>\n",
       "      <th>2</th>\n",
       "      <td>0.990019</td>\n",
       "      <td>0.999020</td>\n",
       "      <td>1.003971</td>\n",
       "      <td>1.015714</td>\n",
       "      <td>0.998852</td>\n",
       "      <td>1.009378</td>\n",
       "      <td>1.000787</td>\n",
       "      <td>1.000759</td>\n",
       "      <td>1.012679</td>\n",
       "      <td>0.988767</td>\n",
       "      <td>...</td>\n",
       "      <td>0.986735</td>\n",
       "      <td>1.015249</td>\n",
       "      <td>1.005293</td>\n",
       "      <td>0.994262</td>\n",
       "      <td>1.023319</td>\n",
       "      <td>1.004854</td>\n",
       "      <td>0.981175</td>\n",
       "      <td>0.980882</td>\n",
       "      <td>0.997131</td>\n",
       "      <td>1.004569</td>\n",
       "    </tr>\n",
       "    <tr>\n",
       "      <th>3</th>\n",
       "      <td>0.996455</td>\n",
       "      <td>1.001818</td>\n",
       "      <td>1.011577</td>\n",
       "      <td>1.032930</td>\n",
       "      <td>0.999979</td>\n",
       "      <td>1.009556</td>\n",
       "      <td>0.993075</td>\n",
       "      <td>1.005091</td>\n",
       "      <td>1.016502</td>\n",
       "      <td>0.994592</td>\n",
       "      <td>...</td>\n",
       "      <td>0.983862</td>\n",
       "      <td>1.011801</td>\n",
       "      <td>0.997539</td>\n",
       "      <td>0.982672</td>\n",
       "      <td>1.025383</td>\n",
       "      <td>1.006361</td>\n",
       "      <td>0.988898</td>\n",
       "      <td>0.978909</td>\n",
       "      <td>0.996572</td>\n",
       "      <td>1.014423</td>\n",
       "    </tr>\n",
       "    <tr>\n",
       "      <th>4</th>\n",
       "      <td>1.008419</td>\n",
       "      <td>0.999411</td>\n",
       "      <td>1.008953</td>\n",
       "      <td>1.015065</td>\n",
       "      <td>1.005677</td>\n",
       "      <td>1.009269</td>\n",
       "      <td>0.993221</td>\n",
       "      <td>0.999314</td>\n",
       "      <td>1.013669</td>\n",
       "      <td>0.992440</td>\n",
       "      <td>...</td>\n",
       "      <td>0.972260</td>\n",
       "      <td>1.008962</td>\n",
       "      <td>0.998408</td>\n",
       "      <td>0.984640</td>\n",
       "      <td>1.029520</td>\n",
       "      <td>1.013352</td>\n",
       "      <td>0.993079</td>\n",
       "      <td>0.973328</td>\n",
       "      <td>1.005944</td>\n",
       "      <td>1.023062</td>\n",
       "    </tr>\n",
       "    <tr>\n",
       "      <th>...</th>\n",
       "      <td>...</td>\n",
       "      <td>...</td>\n",
       "      <td>...</td>\n",
       "      <td>...</td>\n",
       "      <td>...</td>\n",
       "      <td>...</td>\n",
       "      <td>...</td>\n",
       "      <td>...</td>\n",
       "      <td>...</td>\n",
       "      <td>...</td>\n",
       "      <td>...</td>\n",
       "      <td>...</td>\n",
       "      <td>...</td>\n",
       "      <td>...</td>\n",
       "      <td>...</td>\n",
       "      <td>...</td>\n",
       "      <td>...</td>\n",
       "      <td>...</td>\n",
       "      <td>...</td>\n",
       "      <td>...</td>\n",
       "      <td>...</td>\n",
       "    </tr>\n",
       "    <tr>\n",
       "      <th>7556</th>\n",
       "      <td>7.697892</td>\n",
       "      <td>10.585320</td>\n",
       "      <td>43.931525</td>\n",
       "      <td>8.649720</td>\n",
       "      <td>10.810849</td>\n",
       "      <td>7.014521</td>\n",
       "      <td>14.743887</td>\n",
       "      <td>5.566195</td>\n",
       "      <td>3.234011</td>\n",
       "      <td>5.895709</td>\n",
       "      <td>...</td>\n",
       "      <td>10.100227</td>\n",
       "      <td>15.434209</td>\n",
       "      <td>4.741355</td>\n",
       "      <td>24.514280</td>\n",
       "      <td>4.938800</td>\n",
       "      <td>9.199756</td>\n",
       "      <td>8.784113</td>\n",
       "      <td>6.369201</td>\n",
       "      <td>10.126974</td>\n",
       "      <td>5.751284</td>\n",
       "    </tr>\n",
       "    <tr>\n",
       "      <th>7557</th>\n",
       "      <td>7.671175</td>\n",
       "      <td>10.500365</td>\n",
       "      <td>44.079637</td>\n",
       "      <td>8.632761</td>\n",
       "      <td>10.779648</td>\n",
       "      <td>6.982317</td>\n",
       "      <td>14.760248</td>\n",
       "      <td>5.632704</td>\n",
       "      <td>3.254390</td>\n",
       "      <td>5.939083</td>\n",
       "      <td>...</td>\n",
       "      <td>10.048706</td>\n",
       "      <td>15.401149</td>\n",
       "      <td>4.737710</td>\n",
       "      <td>24.308357</td>\n",
       "      <td>4.921556</td>\n",
       "      <td>9.226774</td>\n",
       "      <td>8.729072</td>\n",
       "      <td>6.368832</td>\n",
       "      <td>10.054919</td>\n",
       "      <td>5.713967</td>\n",
       "    </tr>\n",
       "    <tr>\n",
       "      <th>7558</th>\n",
       "      <td>7.641347</td>\n",
       "      <td>10.555565</td>\n",
       "      <td>44.293301</td>\n",
       "      <td>8.643551</td>\n",
       "      <td>10.793433</td>\n",
       "      <td>7.038856</td>\n",
       "      <td>14.830246</td>\n",
       "      <td>5.582879</td>\n",
       "      <td>3.234670</td>\n",
       "      <td>5.974275</td>\n",
       "      <td>...</td>\n",
       "      <td>10.097122</td>\n",
       "      <td>15.493250</td>\n",
       "      <td>4.755297</td>\n",
       "      <td>24.278239</td>\n",
       "      <td>4.955741</td>\n",
       "      <td>9.226595</td>\n",
       "      <td>8.748142</td>\n",
       "      <td>6.397598</td>\n",
       "      <td>10.072845</td>\n",
       "      <td>5.750782</td>\n",
       "    </tr>\n",
       "    <tr>\n",
       "      <th>7559</th>\n",
       "      <td>7.668493</td>\n",
       "      <td>10.497236</td>\n",
       "      <td>44.085151</td>\n",
       "      <td>8.674610</td>\n",
       "      <td>10.684716</td>\n",
       "      <td>6.999902</td>\n",
       "      <td>14.917062</td>\n",
       "      <td>5.494441</td>\n",
       "      <td>3.255665</td>\n",
       "      <td>5.950744</td>\n",
       "      <td>...</td>\n",
       "      <td>10.184132</td>\n",
       "      <td>15.362546</td>\n",
       "      <td>4.789710</td>\n",
       "      <td>24.171137</td>\n",
       "      <td>5.019493</td>\n",
       "      <td>9.240352</td>\n",
       "      <td>8.790807</td>\n",
       "      <td>6.341047</td>\n",
       "      <td>10.120706</td>\n",
       "      <td>5.685239</td>\n",
       "    </tr>\n",
       "    <tr>\n",
       "      <th>7560</th>\n",
       "      <td>7.647974</td>\n",
       "      <td>10.575261</td>\n",
       "      <td>44.035372</td>\n",
       "      <td>8.732417</td>\n",
       "      <td>10.576565</td>\n",
       "      <td>6.985279</td>\n",
       "      <td>14.924149</td>\n",
       "      <td>5.518061</td>\n",
       "      <td>3.258173</td>\n",
       "      <td>5.947989</td>\n",
       "      <td>...</td>\n",
       "      <td>10.219060</td>\n",
       "      <td>15.375956</td>\n",
       "      <td>4.794731</td>\n",
       "      <td>24.192713</td>\n",
       "      <td>5.044428</td>\n",
       "      <td>9.333027</td>\n",
       "      <td>8.793813</td>\n",
       "      <td>6.303448</td>\n",
       "      <td>10.173498</td>\n",
       "      <td>5.778764</td>\n",
       "    </tr>\n",
       "  </tbody>\n",
       "</table>\n",
       "<p>7561 rows × 500 columns</p>\n",
       "</div>"
      ],
      "text/plain": [
       "           0          1          2         3          4         5    \\\n",
       "0     1.000000   1.000000   1.000000  1.000000   1.000000  1.000000   \n",
       "1     0.995534   1.002182   0.998708  1.006377   1.003434  1.008461   \n",
       "2     0.990019   0.999020   1.003971  1.015714   0.998852  1.009378   \n",
       "3     0.996455   1.001818   1.011577  1.032930   0.999979  1.009556   \n",
       "4     1.008419   0.999411   1.008953  1.015065   1.005677  1.009269   \n",
       "...        ...        ...        ...       ...        ...       ...   \n",
       "7556  7.697892  10.585320  43.931525  8.649720  10.810849  7.014521   \n",
       "7557  7.671175  10.500365  44.079637  8.632761  10.779648  6.982317   \n",
       "7558  7.641347  10.555565  44.293301  8.643551  10.793433  7.038856   \n",
       "7559  7.668493  10.497236  44.085151  8.674610  10.684716  6.999902   \n",
       "7560  7.647974  10.575261  44.035372  8.732417  10.576565  6.985279   \n",
       "\n",
       "            6         7         8         9    ...        490        491  \\\n",
       "0      1.000000  1.000000  1.000000  1.000000  ...   1.000000   1.000000   \n",
       "1      0.994673  1.003506  1.006742  0.996789  ...   0.992882   1.011109   \n",
       "2      1.000787  1.000759  1.012679  0.988767  ...   0.986735   1.015249   \n",
       "3      0.993075  1.005091  1.016502  0.994592  ...   0.983862   1.011801   \n",
       "4      0.993221  0.999314  1.013669  0.992440  ...   0.972260   1.008962   \n",
       "...         ...       ...       ...       ...  ...        ...        ...   \n",
       "7556  14.743887  5.566195  3.234011  5.895709  ...  10.100227  15.434209   \n",
       "7557  14.760248  5.632704  3.254390  5.939083  ...  10.048706  15.401149   \n",
       "7558  14.830246  5.582879  3.234670  5.974275  ...  10.097122  15.493250   \n",
       "7559  14.917062  5.494441  3.255665  5.950744  ...  10.184132  15.362546   \n",
       "7560  14.924149  5.518061  3.258173  5.947989  ...  10.219060  15.375956   \n",
       "\n",
       "           492        493       494       495       496       497        498  \\\n",
       "0     1.000000   1.000000  1.000000  1.000000  1.000000  1.000000   1.000000   \n",
       "1     1.008512   0.997009  1.014240  0.999295  0.986761  0.986730   1.003315   \n",
       "2     1.005293   0.994262  1.023319  1.004854  0.981175  0.980882   0.997131   \n",
       "3     0.997539   0.982672  1.025383  1.006361  0.988898  0.978909   0.996572   \n",
       "4     0.998408   0.984640  1.029520  1.013352  0.993079  0.973328   1.005944   \n",
       "...        ...        ...       ...       ...       ...       ...        ...   \n",
       "7556  4.741355  24.514280  4.938800  9.199756  8.784113  6.369201  10.126974   \n",
       "7557  4.737710  24.308357  4.921556  9.226774  8.729072  6.368832  10.054919   \n",
       "7558  4.755297  24.278239  4.955741  9.226595  8.748142  6.397598  10.072845   \n",
       "7559  4.789710  24.171137  5.019493  9.240352  8.790807  6.341047  10.120706   \n",
       "7560  4.794731  24.192713  5.044428  9.333027  8.793813  6.303448  10.173498   \n",
       "\n",
       "           499  \n",
       "0     1.000000  \n",
       "1     0.994436  \n",
       "2     1.004569  \n",
       "3     1.014423  \n",
       "4     1.023062  \n",
       "...        ...  \n",
       "7556  5.751284  \n",
       "7557  5.713967  \n",
       "7558  5.750782  \n",
       "7559  5.685239  \n",
       "7560  5.778764  \n",
       "\n",
       "[7561 rows x 500 columns]"
      ]
     },
     "execution_count": 73,
     "metadata": {},
     "output_type": "execute_result"
    }
   ],
   "source": [
    "# Run the Monte Carlo simulation to forecast 30 years cumulative returns\n",
    "# YOUR CODE HERE\n",
    "MC_30year.calc_cumulative_return()"
   ]
  },
  {
   "cell_type": "code",
   "execution_count": 74,
   "metadata": {},
   "outputs": [
    {
     "data": {
      "image/png": "[encoded data removed]",
      "text/plain": [
       "<Figure size 432x288 with 1 Axes>"
      ]
     },
     "metadata": {
      "needs_background": "light"
     },
     "output_type": "display_data"
    }
   ],
   "source": [
    "# Visualize the 30-year Monte Carlo simulation by creating an\n",
    "# overlay line plot\n",
    "# YOUR CODE HERE\n",
    "MC_sim_line_plot = MC_30year.plot_simulation()"
   ]
  },
  {
   "cell_type": "markdown",
   "metadata": {},
   "source": [
    "#### Step 3: Plot the probability distribution of the Monte Carlo simulation."
   ]
  },
  {
   "cell_type": "code",
   "execution_count": 75,
   "metadata": {},
   "outputs": [
    {
     "data": {
      "image/png": "[encoded data removed]",
      "text/plain": [
       "<Figure size 432x288 with 1 Axes>"
      ]
     },
     "metadata": {
      "needs_background": "light"
     },
     "output_type": "display_data"
    }
   ],
   "source": [
    "# Visualize the probability distribution of the 30-year Monte Carlo simulation \n",
    "# by plotting a histogram\n",
    "# YOUR CODE HERE\n",
    "MC_sim_dist_plot = MC_30year.plot_distribution()"
   ]
  },
  {
   "cell_type": "markdown",
   "metadata": {},
   "source": [
    "#### Step 4: Generate the summary statistics for the Monte Carlo simulation."
   ]
  },
  {
   "cell_type": "code",
   "execution_count": 77,
   "metadata": {},
   "outputs": [
    {
     "data": {
      "text/plain": [
       "count           500.000000\n",
       "mean             10.885284\n",
       "std               7.194082\n",
       "min               1.098097\n",
       "25%               6.075994\n",
       "50%               9.174517\n",
       "75%              13.114282\n",
       "max              46.893724\n",
       "95% CI Lower      3.047826\n",
       "95% CI Upper     31.084481\n",
       "Name: 7560, dtype: float64"
      ]
     },
     "execution_count": 77,
     "metadata": {},
     "output_type": "execute_result"
    }
   ],
   "source": [
    "# Generate summary statistics from the 30-year Monte Carlo simulation results\n",
    "# Save the results as a variable\n",
    "# YOUR CODE HERE\n",
    "MC_summary = MC_30year.summarize_cumulative_return()\n",
    "\n",
    "# Review the 30-year Monte Carlo summary statistics\n",
    "# YOUR CODE HERE\n",
    "MC_summary"
   ]
  },
  {
   "cell_type": "markdown",
   "metadata": {},
   "source": [
    "### Analyze the Retirement Portfolio Forecasts\n",
    "\n",
    "Using the current value of only the stock and bond portion of the member's portfolio and the summary statistics that you generated from the Monte Carlo simulation, answer the following question in your Jupyter notebook:\n",
    "\n",
    "-  What are the lower and upper bounds for the expected value of the portfolio with a 95% confidence interval?\n"
   ]
  },
  {
   "cell_type": "code",
   "execution_count": 79,
   "metadata": {},
   "outputs": [
    {
     "name": "stdout",
     "output_type": "stream",
     "text": [
      "112255.20300000001\n"
     ]
    }
   ],
   "source": [
    "# Print the current balance of the stock and bond portion of the members portfolio\n",
    "# YOUR CODE HERE\n",
    "print(total_portfolio)"
   ]
  },
  {
   "cell_type": "code",
   "execution_count": 82,
   "metadata": {},
   "outputs": [
    {
     "name": "stdout",
     "output_type": "stream",
     "text": [
      "342134.30553356354 3489394.763890386\n"
     ]
    }
   ],
   "source": [
    "# Use the lower and upper `95%` confidence intervals to calculate the range of the possible outcomes for the current stock/bond portfolio\n",
    "ci_lower_thirty_cumulative_return = MC_summary[8] * total_portfolio\n",
    "ci_upper_thirty_cumulative_return = MC_summary[9] * total_portfolio\n",
    "\n",
    "# Print the result of your calculations\n",
    "# YOUR CODE HERE\n",
    "print(ci_lower_thirty_cumulative_return,ci_upper_thirty_cumulative_return)"
   ]
  },
  {
   "cell_type": "markdown",
   "metadata": {},
   "source": [
    "### Forecast Cumulative Returns in 10 Years\n",
    "\n",
    "The CTO of the credit union is impressed with your work on these planning tools but wonders if 30 years is a long time to wait until retirement. So, your next task is to adjust the retirement portfolio and run a new Monte Carlo simulation to find out if the changes will allow members to retire earlier.\n",
    "\n",
    "For this new Monte Carlo simulation, do the following: \n",
    "\n",
    "- Forecast the cumulative returns for 10 years from now. Because of the shortened investment horizon (30 years to 10 years), the portfolio needs to invest more heavily in the riskier asset&mdash;that is, stock&mdash;to help accumulate wealth for retirement. \n",
    "\n",
    "- Adjust the weights of the retirement portfolio so that the composition for the Monte Carlo simulation consists of 20% bonds and 80% stocks. \n",
    "\n",
    "- Run the simulation over 500 samples, and use the same data that the API call to Alpaca generated.\n",
    "\n",
    "- Based on the new Monte Carlo simulation, answer the following questions in your Jupyter notebook:\n",
    "\n",
    "    - Using the current value of only the stock and bond portion of the member's portfolio and the summary statistics that you generated from the new Monte Carlo simulation, what are the lower and upper bounds for the expected value of the portfolio (with the new weights) with a 95% confidence interval?\n",
    "\n",
    "    - Will weighting the portfolio more heavily toward stocks allow the credit union members to retire after only 10 years?\n"
   ]
  },
  {
   "cell_type": "code",
   "execution_count": 90,
   "metadata": {},
   "outputs": [
    {
     "data": {
      "text/html": [
       "<div>\n",
       "<style scoped>\n",
       "    .dataframe tbody tr th:only-of-type {\n",
       "        vertical-align: middle;\n",
       "    }\n",
       "\n",
       "    .dataframe tbody tr th {\n",
       "        vertical-align: top;\n",
       "    }\n",
       "\n",
       "    .dataframe thead tr th {\n",
       "        text-align: left;\n",
       "    }\n",
       "\n",
       "    .dataframe thead tr:last-of-type th {\n",
       "        text-align: right;\n",
       "    }\n",
       "</style>\n",
       "<table border=\"1\" class=\"dataframe\">\n",
       "  <thead>\n",
       "    <tr>\n",
       "      <th></th>\n",
       "      <th colspan=\"6\" halign=\"left\">AGG</th>\n",
       "      <th colspan=\"6\" halign=\"left\">SPY</th>\n",
       "    </tr>\n",
       "    <tr>\n",
       "      <th></th>\n",
       "      <th>open</th>\n",
       "      <th>high</th>\n",
       "      <th>low</th>\n",
       "      <th>close</th>\n",
       "      <th>volume</th>\n",
       "      <th>daily_return</th>\n",
       "      <th>open</th>\n",
       "      <th>high</th>\n",
       "      <th>low</th>\n",
       "      <th>close</th>\n",
       "      <th>volume</th>\n",
       "      <th>daily_return</th>\n",
       "    </tr>\n",
       "    <tr>\n",
       "      <th>time</th>\n",
       "      <th></th>\n",
       "      <th></th>\n",
       "      <th></th>\n",
       "      <th></th>\n",
       "      <th></th>\n",
       "      <th></th>\n",
       "      <th></th>\n",
       "      <th></th>\n",
       "      <th></th>\n",
       "      <th></th>\n",
       "      <th></th>\n",
       "      <th></th>\n",
       "    </tr>\n",
       "  </thead>\n",
       "  <tbody>\n",
       "    <tr>\n",
       "      <th>2010-08-09 00:00:00-04:00</th>\n",
       "      <td>107.66</td>\n",
       "      <td>107.680</td>\n",
       "      <td>107.53</td>\n",
       "      <td>107.63</td>\n",
       "      <td>478988</td>\n",
       "      <td>NaN</td>\n",
       "      <td>112.92</td>\n",
       "      <td>113.18</td>\n",
       "      <td>112.3200</td>\n",
       "      <td>112.9801</td>\n",
       "      <td>89387651</td>\n",
       "      <td>NaN</td>\n",
       "    </tr>\n",
       "    <tr>\n",
       "      <th>2010-08-10 00:00:00-04:00</th>\n",
       "      <td>107.63</td>\n",
       "      <td>107.920</td>\n",
       "      <td>107.56</td>\n",
       "      <td>107.83</td>\n",
       "      <td>532447</td>\n",
       "      <td>0.001858</td>\n",
       "      <td>112.03</td>\n",
       "      <td>112.98</td>\n",
       "      <td>111.3701</td>\n",
       "      <td>112.4200</td>\n",
       "      <td>202262432</td>\n",
       "      <td>-0.004958</td>\n",
       "    </tr>\n",
       "    <tr>\n",
       "      <th>2010-08-11 00:00:00-04:00</th>\n",
       "      <td>107.91</td>\n",
       "      <td>107.956</td>\n",
       "      <td>107.79</td>\n",
       "      <td>107.91</td>\n",
       "      <td>665686</td>\n",
       "      <td>0.000742</td>\n",
       "      <td>110.65</td>\n",
       "      <td>110.69</td>\n",
       "      <td>109.1200</td>\n",
       "      <td>109.2901</td>\n",
       "      <td>223970698</td>\n",
       "      <td>-0.027841</td>\n",
       "    </tr>\n",
       "    <tr>\n",
       "      <th>2010-08-12 00:00:00-04:00</th>\n",
       "      <td>107.93</td>\n",
       "      <td>107.980</td>\n",
       "      <td>107.67</td>\n",
       "      <td>107.74</td>\n",
       "      <td>640614</td>\n",
       "      <td>-0.001575</td>\n",
       "      <td>107.64</td>\n",
       "      <td>109.02</td>\n",
       "      <td>107.6000</td>\n",
       "      <td>108.6400</td>\n",
       "      <td>190434932</td>\n",
       "      <td>-0.005948</td>\n",
       "    </tr>\n",
       "    <tr>\n",
       "      <th>2010-08-13 00:00:00-04:00</th>\n",
       "      <td>107.77</td>\n",
       "      <td>108.000</td>\n",
       "      <td>107.67</td>\n",
       "      <td>108.00</td>\n",
       "      <td>563778</td>\n",
       "      <td>0.002413</td>\n",
       "      <td>108.29</td>\n",
       "      <td>108.96</td>\n",
       "      <td>108.1800</td>\n",
       "      <td>108.3000</td>\n",
       "      <td>130664078</td>\n",
       "      <td>-0.003130</td>\n",
       "    </tr>\n",
       "  </tbody>\n",
       "</table>\n",
       "</div>"
      ],
      "text/plain": [
       "                              AGG                                   \\\n",
       "                             open     high     low   close  volume   \n",
       "time                                                                 \n",
       "2010-08-09 00:00:00-04:00  107.66  107.680  107.53  107.63  478988   \n",
       "2010-08-10 00:00:00-04:00  107.63  107.920  107.56  107.83  532447   \n",
       "2010-08-11 00:00:00-04:00  107.91  107.956  107.79  107.91  665686   \n",
       "2010-08-12 00:00:00-04:00  107.93  107.980  107.67  107.74  640614   \n",
       "2010-08-13 00:00:00-04:00  107.77  108.000  107.67  108.00  563778   \n",
       "\n",
       "                                           SPY                              \\\n",
       "                          daily_return    open    high       low     close   \n",
       "time                                                                         \n",
       "2010-08-09 00:00:00-04:00          NaN  112.92  113.18  112.3200  112.9801   \n",
       "2010-08-10 00:00:00-04:00     0.001858  112.03  112.98  111.3701  112.4200   \n",
       "2010-08-11 00:00:00-04:00     0.000742  110.65  110.69  109.1200  109.2901   \n",
       "2010-08-12 00:00:00-04:00    -0.001575  107.64  109.02  107.6000  108.6400   \n",
       "2010-08-13 00:00:00-04:00     0.002413  108.29  108.96  108.1800  108.3000   \n",
       "\n",
       "                                                   \n",
       "                              volume daily_return  \n",
       "time                                               \n",
       "2010-08-09 00:00:00-04:00   89387651          NaN  \n",
       "2010-08-10 00:00:00-04:00  202262432    -0.004958  \n",
       "2010-08-11 00:00:00-04:00  223970698    -0.027841  \n",
       "2010-08-12 00:00:00-04:00  190434932    -0.005948  \n",
       "2010-08-13 00:00:00-04:00  130664078    -0.003130  "
      ]
     },
     "execution_count": 90,
     "metadata": {},
     "output_type": "execute_result"
    }
   ],
   "source": [
    "# Configure a Monte Carlo simulation to forecast 10 years cumulative returns\n",
    "# The weights should be split 20% to AGG and 80% to SPY.\n",
    "# Run 500 samples.\n",
    "# YOUR CODE HERE\n",
    "MC_10year = MCSimulation(\n",
    "    portfolio_data = price_10year_df, \n",
    "    weights = [0.8,0.2], \n",
    "    num_simulation = 500, \n",
    "    num_trading_days = 252*10\n",
    ")\n",
    "# Review the simulation input data\n",
    "# YOUR CODE HERE\n",
    "MC_10year.portfolio_data.head()"
   ]
  },
  {
   "cell_type": "code",
   "execution_count": 91,
   "metadata": {},
   "outputs": [
    {
     "name": "stdout",
     "output_type": "stream",
     "text": [
      "Running Monte Carlo simulation number 0.\n",
      "Running Monte Carlo simulation number 10.\n",
      "Running Monte Carlo simulation number 20.\n",
      "Running Monte Carlo simulation number 30.\n",
      "Running Monte Carlo simulation number 40.\n",
      "Running Monte Carlo simulation number 50.\n",
      "Running Monte Carlo simulation number 60.\n",
      "Running Monte Carlo simulation number 70.\n",
      "Running Monte Carlo simulation number 80.\n",
      "Running Monte Carlo simulation number 90.\n",
      "Running Monte Carlo simulation number 100.\n",
      "Running Monte Carlo simulation number 110.\n",
      "Running Monte Carlo simulation number 120.\n",
      "Running Monte Carlo simulation number 130.\n",
      "Running Monte Carlo simulation number 140.\n",
      "Running Monte Carlo simulation number 150.\n",
      "Running Monte Carlo simulation number 160.\n",
      "Running Monte Carlo simulation number 170.\n",
      "Running Monte Carlo simulation number 180.\n",
      "Running Monte Carlo simulation number 190.\n",
      "Running Monte Carlo simulation number 200.\n",
      "Running Monte Carlo simulation number 210.\n",
      "Running Monte Carlo simulation number 220.\n",
      "Running Monte Carlo simulation number 230.\n",
      "Running Monte Carlo simulation number 240.\n",
      "Running Monte Carlo simulation number 250.\n",
      "Running Monte Carlo simulation number 260.\n",
      "Running Monte Carlo simulation number 270.\n",
      "Running Monte Carlo simulation number 280.\n",
      "Running Monte Carlo simulation number 290.\n",
      "Running Monte Carlo simulation number 300.\n",
      "Running Monte Carlo simulation number 310.\n",
      "Running Monte Carlo simulation number 320.\n",
      "Running Monte Carlo simulation number 330.\n",
      "Running Monte Carlo simulation number 340.\n",
      "Running Monte Carlo simulation number 350.\n",
      "Running Monte Carlo simulation number 360.\n",
      "Running Monte Carlo simulation number 370.\n",
      "Running Monte Carlo simulation number 380.\n",
      "Running Monte Carlo simulation number 390.\n",
      "Running Monte Carlo simulation number 400.\n",
      "Running Monte Carlo simulation number 410.\n",
      "Running Monte Carlo simulation number 420.\n",
      "Running Monte Carlo simulation number 430.\n",
      "Running Monte Carlo simulation number 440.\n",
      "Running Monte Carlo simulation number 450.\n",
      "Running Monte Carlo simulation number 460.\n",
      "Running Monte Carlo simulation number 470.\n",
      "Running Monte Carlo simulation number 480.\n",
      "Running Monte Carlo simulation number 490.\n"
     ]
    },
    {
     "data": {
      "text/html": [
       "<div>\n",
       "<style scoped>\n",
       "    .dataframe tbody tr th:only-of-type {\n",
       "        vertical-align: middle;\n",
       "    }\n",
       "\n",
       "    .dataframe tbody tr th {\n",
       "        vertical-align: top;\n",
       "    }\n",
       "\n",
       "    .dataframe thead th {\n",
       "        text-align: right;\n",
       "    }\n",
       "</style>\n",
       "<table border=\"1\" class=\"dataframe\">\n",
       "  <thead>\n",
       "    <tr style=\"text-align: right;\">\n",
       "      <th></th>\n",
       "      <th>0</th>\n",
       "      <th>1</th>\n",
       "      <th>2</th>\n",
       "      <th>3</th>\n",
       "      <th>4</th>\n",
       "      <th>5</th>\n",
       "      <th>6</th>\n",
       "      <th>7</th>\n",
       "      <th>8</th>\n",
       "      <th>9</th>\n",
       "      <th>...</th>\n",
       "      <th>490</th>\n",
       "      <th>491</th>\n",
       "      <th>492</th>\n",
       "      <th>493</th>\n",
       "      <th>494</th>\n",
       "      <th>495</th>\n",
       "      <th>496</th>\n",
       "      <th>497</th>\n",
       "      <th>498</th>\n",
       "      <th>499</th>\n",
       "    </tr>\n",
       "  </thead>\n",
       "  <tbody>\n",
       "    <tr>\n",
       "      <th>0</th>\n",
       "      <td>1.000000</td>\n",
       "      <td>1.000000</td>\n",
       "      <td>1.000000</td>\n",
       "      <td>1.000000</td>\n",
       "      <td>1.000000</td>\n",
       "      <td>1.000000</td>\n",
       "      <td>1.000000</td>\n",
       "      <td>1.000000</td>\n",
       "      <td>1.000000</td>\n",
       "      <td>1.000000</td>\n",
       "      <td>...</td>\n",
       "      <td>1.000000</td>\n",
       "      <td>1.000000</td>\n",
       "      <td>1.000000</td>\n",
       "      <td>1.000000</td>\n",
       "      <td>1.000000</td>\n",
       "      <td>1.000000</td>\n",
       "      <td>1.000000</td>\n",
       "      <td>1.000000</td>\n",
       "      <td>1.000000</td>\n",
       "      <td>1.000000</td>\n",
       "    </tr>\n",
       "    <tr>\n",
       "      <th>1</th>\n",
       "      <td>0.999640</td>\n",
       "      <td>0.998838</td>\n",
       "      <td>0.996777</td>\n",
       "      <td>1.000132</td>\n",
       "      <td>1.001428</td>\n",
       "      <td>0.998231</td>\n",
       "      <td>1.004613</td>\n",
       "      <td>0.998934</td>\n",
       "      <td>0.996495</td>\n",
       "      <td>1.003143</td>\n",
       "      <td>...</td>\n",
       "      <td>0.999725</td>\n",
       "      <td>1.001969</td>\n",
       "      <td>0.999812</td>\n",
       "      <td>1.000566</td>\n",
       "      <td>0.998046</td>\n",
       "      <td>1.000192</td>\n",
       "      <td>1.002818</td>\n",
       "      <td>0.997848</td>\n",
       "      <td>0.997575</td>\n",
       "      <td>1.002009</td>\n",
       "    </tr>\n",
       "    <tr>\n",
       "      <th>2</th>\n",
       "      <td>1.003057</td>\n",
       "      <td>1.004422</td>\n",
       "      <td>0.994751</td>\n",
       "      <td>1.001124</td>\n",
       "      <td>0.999397</td>\n",
       "      <td>0.999151</td>\n",
       "      <td>1.005432</td>\n",
       "      <td>0.998536</td>\n",
       "      <td>0.995886</td>\n",
       "      <td>1.004403</td>\n",
       "      <td>...</td>\n",
       "      <td>0.996390</td>\n",
       "      <td>1.001716</td>\n",
       "      <td>1.000874</td>\n",
       "      <td>1.003036</td>\n",
       "      <td>0.997059</td>\n",
       "      <td>1.000121</td>\n",
       "      <td>0.996739</td>\n",
       "      <td>1.002446</td>\n",
       "      <td>0.999526</td>\n",
       "      <td>1.001863</td>\n",
       "    </tr>\n",
       "    <tr>\n",
       "      <th>3</th>\n",
       "      <td>1.008476</td>\n",
       "      <td>1.004804</td>\n",
       "      <td>0.994557</td>\n",
       "      <td>0.993889</td>\n",
       "      <td>1.002963</td>\n",
       "      <td>0.998687</td>\n",
       "      <td>1.003255</td>\n",
       "      <td>0.998804</td>\n",
       "      <td>0.991863</td>\n",
       "      <td>1.005209</td>\n",
       "      <td>...</td>\n",
       "      <td>0.992469</td>\n",
       "      <td>0.999832</td>\n",
       "      <td>1.000062</td>\n",
       "      <td>1.005443</td>\n",
       "      <td>0.995406</td>\n",
       "      <td>1.001478</td>\n",
       "      <td>0.998943</td>\n",
       "      <td>1.003220</td>\n",
       "      <td>0.999246</td>\n",
       "      <td>0.996491</td>\n",
       "    </tr>\n",
       "    <tr>\n",
       "      <th>4</th>\n",
       "      <td>1.013848</td>\n",
       "      <td>1.006148</td>\n",
       "      <td>0.988381</td>\n",
       "      <td>0.995880</td>\n",
       "      <td>1.003452</td>\n",
       "      <td>0.992242</td>\n",
       "      <td>1.004098</td>\n",
       "      <td>0.999142</td>\n",
       "      <td>0.986225</td>\n",
       "      <td>1.011983</td>\n",
       "      <td>...</td>\n",
       "      <td>0.989712</td>\n",
       "      <td>1.000618</td>\n",
       "      <td>0.996626</td>\n",
       "      <td>1.003000</td>\n",
       "      <td>1.000752</td>\n",
       "      <td>1.001436</td>\n",
       "      <td>0.998367</td>\n",
       "      <td>1.004035</td>\n",
       "      <td>0.997336</td>\n",
       "      <td>0.994625</td>\n",
       "    </tr>\n",
       "    <tr>\n",
       "      <th>...</th>\n",
       "      <td>...</td>\n",
       "      <td>...</td>\n",
       "      <td>...</td>\n",
       "      <td>...</td>\n",
       "      <td>...</td>\n",
       "      <td>...</td>\n",
       "      <td>...</td>\n",
       "      <td>...</td>\n",
       "      <td>...</td>\n",
       "      <td>...</td>\n",
       "      <td>...</td>\n",
       "      <td>...</td>\n",
       "      <td>...</td>\n",
       "      <td>...</td>\n",
       "      <td>...</td>\n",
       "      <td>...</td>\n",
       "      <td>...</td>\n",
       "      <td>...</td>\n",
       "      <td>...</td>\n",
       "      <td>...</td>\n",
       "      <td>...</td>\n",
       "    </tr>\n",
       "    <tr>\n",
       "      <th>2516</th>\n",
       "      <td>1.292016</td>\n",
       "      <td>1.287759</td>\n",
       "      <td>1.479936</td>\n",
       "      <td>1.508026</td>\n",
       "      <td>1.292905</td>\n",
       "      <td>1.356552</td>\n",
       "      <td>1.495925</td>\n",
       "      <td>1.503218</td>\n",
       "      <td>1.875701</td>\n",
       "      <td>1.063008</td>\n",
       "      <td>...</td>\n",
       "      <td>1.279826</td>\n",
       "      <td>1.236338</td>\n",
       "      <td>1.383883</td>\n",
       "      <td>1.745387</td>\n",
       "      <td>2.073342</td>\n",
       "      <td>1.385972</td>\n",
       "      <td>1.643458</td>\n",
       "      <td>1.088678</td>\n",
       "      <td>1.390420</td>\n",
       "      <td>1.600354</td>\n",
       "    </tr>\n",
       "    <tr>\n",
       "      <th>2517</th>\n",
       "      <td>1.288239</td>\n",
       "      <td>1.292015</td>\n",
       "      <td>1.480620</td>\n",
       "      <td>1.504746</td>\n",
       "      <td>1.290706</td>\n",
       "      <td>1.356174</td>\n",
       "      <td>1.496787</td>\n",
       "      <td>1.507168</td>\n",
       "      <td>1.869909</td>\n",
       "      <td>1.061743</td>\n",
       "      <td>...</td>\n",
       "      <td>1.279150</td>\n",
       "      <td>1.239938</td>\n",
       "      <td>1.390282</td>\n",
       "      <td>1.739466</td>\n",
       "      <td>2.077734</td>\n",
       "      <td>1.380782</td>\n",
       "      <td>1.646723</td>\n",
       "      <td>1.087473</td>\n",
       "      <td>1.388221</td>\n",
       "      <td>1.590400</td>\n",
       "    </tr>\n",
       "    <tr>\n",
       "      <th>2518</th>\n",
       "      <td>1.288507</td>\n",
       "      <td>1.288136</td>\n",
       "      <td>1.479524</td>\n",
       "      <td>1.510203</td>\n",
       "      <td>1.290702</td>\n",
       "      <td>1.358626</td>\n",
       "      <td>1.503438</td>\n",
       "      <td>1.501548</td>\n",
       "      <td>1.873318</td>\n",
       "      <td>1.062761</td>\n",
       "      <td>...</td>\n",
       "      <td>1.285096</td>\n",
       "      <td>1.240750</td>\n",
       "      <td>1.390039</td>\n",
       "      <td>1.739898</td>\n",
       "      <td>2.077210</td>\n",
       "      <td>1.377111</td>\n",
       "      <td>1.637737</td>\n",
       "      <td>1.088701</td>\n",
       "      <td>1.389514</td>\n",
       "      <td>1.578755</td>\n",
       "    </tr>\n",
       "    <tr>\n",
       "      <th>2519</th>\n",
       "      <td>1.291214</td>\n",
       "      <td>1.282556</td>\n",
       "      <td>1.482943</td>\n",
       "      <td>1.506864</td>\n",
       "      <td>1.294342</td>\n",
       "      <td>1.356499</td>\n",
       "      <td>1.501775</td>\n",
       "      <td>1.505280</td>\n",
       "      <td>1.874331</td>\n",
       "      <td>1.060034</td>\n",
       "      <td>...</td>\n",
       "      <td>1.284905</td>\n",
       "      <td>1.243532</td>\n",
       "      <td>1.391980</td>\n",
       "      <td>1.737652</td>\n",
       "      <td>2.077364</td>\n",
       "      <td>1.380186</td>\n",
       "      <td>1.632192</td>\n",
       "      <td>1.085342</td>\n",
       "      <td>1.393054</td>\n",
       "      <td>1.569996</td>\n",
       "    </tr>\n",
       "    <tr>\n",
       "      <th>2520</th>\n",
       "      <td>1.297428</td>\n",
       "      <td>1.273141</td>\n",
       "      <td>1.485119</td>\n",
       "      <td>1.499743</td>\n",
       "      <td>1.298774</td>\n",
       "      <td>1.365652</td>\n",
       "      <td>1.503088</td>\n",
       "      <td>1.507505</td>\n",
       "      <td>1.881263</td>\n",
       "      <td>1.059250</td>\n",
       "      <td>...</td>\n",
       "      <td>1.281300</td>\n",
       "      <td>1.244241</td>\n",
       "      <td>1.393627</td>\n",
       "      <td>1.742213</td>\n",
       "      <td>2.070590</td>\n",
       "      <td>1.376150</td>\n",
       "      <td>1.632777</td>\n",
       "      <td>1.083257</td>\n",
       "      <td>1.391884</td>\n",
       "      <td>1.568826</td>\n",
       "    </tr>\n",
       "  </tbody>\n",
       "</table>\n",
       "<p>2521 rows × 500 columns</p>\n",
       "</div>"
      ],
      "text/plain": [
       "           0         1         2         3         4         5         6    \\\n",
       "0     1.000000  1.000000  1.000000  1.000000  1.000000  1.000000  1.000000   \n",
       "1     0.999640  0.998838  0.996777  1.000132  1.001428  0.998231  1.004613   \n",
       "2     1.003057  1.004422  0.994751  1.001124  0.999397  0.999151  1.005432   \n",
       "3     1.008476  1.004804  0.994557  0.993889  1.002963  0.998687  1.003255   \n",
       "4     1.013848  1.006148  0.988381  0.995880  1.003452  0.992242  1.004098   \n",
       "...        ...       ...       ...       ...       ...       ...       ...   \n",
       "2516  1.292016  1.287759  1.479936  1.508026  1.292905  1.356552  1.495925   \n",
       "2517  1.288239  1.292015  1.480620  1.504746  1.290706  1.356174  1.496787   \n",
       "2518  1.288507  1.288136  1.479524  1.510203  1.290702  1.358626  1.503438   \n",
       "2519  1.291214  1.282556  1.482943  1.506864  1.294342  1.356499  1.501775   \n",
       "2520  1.297428  1.273141  1.485119  1.499743  1.298774  1.365652  1.503088   \n",
       "\n",
       "           7         8         9    ...       490       491       492  \\\n",
       "0     1.000000  1.000000  1.000000  ...  1.000000  1.000000  1.000000   \n",
       "1     0.998934  0.996495  1.003143  ...  0.999725  1.001969  0.999812   \n",
       "2     0.998536  0.995886  1.004403  ...  0.996390  1.001716  1.000874   \n",
       "3     0.998804  0.991863  1.005209  ...  0.992469  0.999832  1.000062   \n",
       "4     0.999142  0.986225  1.011983  ...  0.989712  1.000618  0.996626   \n",
       "...        ...       ...       ...  ...       ...       ...       ...   \n",
       "2516  1.503218  1.875701  1.063008  ...  1.279826  1.236338  1.383883   \n",
       "2517  1.507168  1.869909  1.061743  ...  1.279150  1.239938  1.390282   \n",
       "2518  1.501548  1.873318  1.062761  ...  1.285096  1.240750  1.390039   \n",
       "2519  1.505280  1.874331  1.060034  ...  1.284905  1.243532  1.391980   \n",
       "2520  1.507505  1.881263  1.059250  ...  1.281300  1.244241  1.393627   \n",
       "\n",
       "           493       494       495       496       497       498       499  \n",
       "0     1.000000  1.000000  1.000000  1.000000  1.000000  1.000000  1.000000  \n",
       "1     1.000566  0.998046  1.000192  1.002818  0.997848  0.997575  1.002009  \n",
       "2     1.003036  0.997059  1.000121  0.996739  1.002446  0.999526  1.001863  \n",
       "3     1.005443  0.995406  1.001478  0.998943  1.003220  0.999246  0.996491  \n",
       "4     1.003000  1.000752  1.001436  0.998367  1.004035  0.997336  0.994625  \n",
       "...        ...       ...       ...       ...       ...       ...       ...  \n",
       "2516  1.745387  2.073342  1.385972  1.643458  1.088678  1.390420  1.600354  \n",
       "2517  1.739466  2.077734  1.380782  1.646723  1.087473  1.388221  1.590400  \n",
       "2518  1.739898  2.077210  1.377111  1.637737  1.088701  1.389514  1.578755  \n",
       "2519  1.737652  2.077364  1.380186  1.632192  1.085342  1.393054  1.569996  \n",
       "2520  1.742213  2.070590  1.376150  1.632777  1.083257  1.391884  1.568826  \n",
       "\n",
       "[2521 rows x 500 columns]"
      ]
     },
     "execution_count": 91,
     "metadata": {},
     "output_type": "execute_result"
    }
   ],
   "source": [
    "# Run the Monte Carlo simulation to forecast 10 years cumulative returns\n",
    "# YOUR CODE HERE\n",
    "MC_10year.calc_cumulative_return()"
   ]
  },
  {
   "cell_type": "code",
   "execution_count": 92,
   "metadata": {},
   "outputs": [
    {
     "data": {
      "image/png": "[encoded data removed]",
      "text/plain": [
       "<Figure size 432x288 with 1 Axes>"
      ]
     },
     "metadata": {
      "needs_background": "light"
     },
     "output_type": "display_data"
    }
   ],
   "source": [
    "# Visualize the 10-year Monte Carlo simulation by creating an\n",
    "# overlay line plot\n",
    "# YOUR CODE HERE\n",
    "MC_sim_line_plot1 = MC_10year.plot_simulation()"
   ]
  },
  {
   "cell_type": "code",
   "execution_count": 93,
   "metadata": {},
   "outputs": [
    {
     "data": {
      "image/png": "[encoded data removed]",
      "text/plain": [
       "<Figure size 432x288 with 1 Axes>"
      ]
     },
     "metadata": {
      "needs_background": "light"
     },
     "output_type": "display_data"
    }
   ],
   "source": [
    "# Visualize the probability distribution of the 10-year Monte Carlo simulation \n",
    "# by plotting a histogram\n",
    "# YOUR CODE HERE\n",
    "MC_sim_dist_plot1 = MC_10year.plot_distribution()"
   ]
  },
  {
   "cell_type": "code",
   "execution_count": 94,
   "metadata": {},
   "outputs": [
    {
     "data": {
      "text/plain": [
       "count           500.000000\n",
       "mean              1.397212\n",
       "std               0.227295\n",
       "min               0.828540\n",
       "25%               1.236573\n",
       "50%               1.388022\n",
       "75%               1.524534\n",
       "max               2.506923\n",
       "95% CI Lower      1.002723\n",
       "95% CI Upper      1.936685\n",
       "Name: 2520, dtype: float64"
      ]
     },
     "execution_count": 94,
     "metadata": {},
     "output_type": "execute_result"
    }
   ],
   "source": [
    "# Generate summary statistics from the 10-year Monte Carlo simulation results\n",
    "# Save the results as a variable\n",
    "# YOUR CODE HERE\n",
    "MC_summary1 = MC_10year.summarize_cumulative_return()\n",
    "\n",
    "# Review the 10-year Monte Carlo summary statistics\n",
    "# YOUR CODE HERE\n",
    "MC_summary1"
   ]
  },
  {
   "cell_type": "markdown",
   "metadata": {},
   "source": [
    "### Answer the following questions:"
   ]
  },
  {
   "cell_type": "markdown",
   "metadata": {},
   "source": [
    "#### Question: Using the current value of only the stock and bond portion of the member's portfolio and the summary statistics that you generated from the new Monte Carlo simulation, what are the lower and upper bounds for the expected value of the portfolio (with the new weights) with a 95% confidence interval?"
   ]
  },
  {
   "cell_type": "code",
   "execution_count": 95,
   "metadata": {},
   "outputs": [
    {
     "name": "stdout",
     "output_type": "stream",
     "text": [
      "60689.5\n"
     ]
    }
   ],
   "source": [
    "# Print the current balance of the stock and bond portion of the members portfolio\n",
    "# YOUR CODE HERE\n",
    "print(total_stocks_bonds)"
   ]
  },
  {
   "cell_type": "code",
   "execution_count": 96,
   "metadata": {},
   "outputs": [
    {
     "name": "stdout",
     "output_type": "stream",
     "text": [
      "60854.786968869645 117536.43892762098\n"
     ]
    }
   ],
   "source": [
    "# Use the lower and upper `95%` confidence intervals to calculate the range of the possible outcomes for the current stock/bond portfolio\n",
    "ci_lower_ten_cumulative_return = MC_summary1[8] * total_stocks_bonds\n",
    "ci_upper_ten_cumulative_return = MC_summary1[9] * total_stocks_bonds\n",
    "\n",
    "# Print the result of your calculations\n",
    "# YOUR CODE HERE\n",
    "print(ci_lower_ten_cumulative_return,ci_upper_ten_cumulative_return)"
   ]
  },
  {
   "cell_type": "markdown",
   "metadata": {},
   "source": [
    "#### Question: Will weighting the portfolio more heavily to stocks allow the credit union members to retire after only 10 years?"
   ]
  },
  {
   "cell_type": "raw",
   "metadata": {},
   "source": [
    "**Answer** It will not, because the heavy weighting on stocks may result in nearly zero profit over 10 years."
   ]
  },
  {
   "cell_type": "code",
   "execution_count": null,
   "metadata": {},
   "outputs": [],
   "source": []
  }
 ],
 "metadata": {
  "kernelspec": {
   "display_name": "Python 3",
   "language": "python",
   "name": "python3"
  },
  "language_info": {
   "codemirror_mode": {
    "name": "ipython",
    "version": 3
   },
   "file_extension": ".py",
   "mimetype": "text/x-python",
   "name": "python",
   "nbconvert_exporter": "python",
   "pygments_lexer": "ipython3",
   "version": "3.7.10"
  }
 },
 "nbformat": 4,
 "nbformat_minor": 4
}
